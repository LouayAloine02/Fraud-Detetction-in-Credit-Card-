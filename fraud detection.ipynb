{
 "cells": [
  {
   "cell_type": "code",
   "execution_count": 2,
   "id": "bfc3462f",
   "metadata": {},
   "outputs": [],
   "source": [
    "import pandas as pd \n",
    "import numpy as np \n",
    "import seaborn as sns \n",
    "import matplotlib.pyplot as plt\n",
    "import plotly.express as px\n",
    "from plotly.subplots import make_subplots\n",
    "import plotly.graph_objects as go\n",
    "import plotly\n",
    "\n",
    "import warnings\n",
    "warnings.filterwarnings(\"ignore\")\n",
    "\n",
    "from sklearn.metrics import confusion_matrix,accuracy_score,f1_score,precision_score,plot_roc_curve,accuracy_score,recall_score\n",
    "from sklearn.metrics import plot_confusion_matrix"
   ]
  },
  {
   "cell_type": "markdown",
   "id": "cecef22c",
   "metadata": {},
   "source": [
    "###  Prétraitement de données"
   ]
  },
  {
   "cell_type": "code",
   "execution_count": 16,
   "id": "2031e12b",
   "metadata": {},
   "outputs": [],
   "source": [
    "data=pd.read_csv('creditcard.csv')\n"
   ]
  },
  {
   "cell_type": "code",
   "execution_count": 4,
   "id": "332278ac",
   "metadata": {},
   "outputs": [
    {
     "data": {
      "text/html": [
       "<div>\n",
       "<style scoped>\n",
       "    .dataframe tbody tr th:only-of-type {\n",
       "        vertical-align: middle;\n",
       "    }\n",
       "\n",
       "    .dataframe tbody tr th {\n",
       "        vertical-align: top;\n",
       "    }\n",
       "\n",
       "    .dataframe thead th {\n",
       "        text-align: right;\n",
       "    }\n",
       "</style>\n",
       "<table border=\"1\" class=\"dataframe\">\n",
       "  <thead>\n",
       "    <tr style=\"text-align: right;\">\n",
       "      <th></th>\n",
       "      <th>Time</th>\n",
       "      <th>V1</th>\n",
       "      <th>V2</th>\n",
       "      <th>V3</th>\n",
       "      <th>V4</th>\n",
       "      <th>V5</th>\n",
       "      <th>V6</th>\n",
       "      <th>V7</th>\n",
       "      <th>V8</th>\n",
       "      <th>V9</th>\n",
       "      <th>...</th>\n",
       "      <th>V21</th>\n",
       "      <th>V22</th>\n",
       "      <th>V23</th>\n",
       "      <th>V24</th>\n",
       "      <th>V25</th>\n",
       "      <th>V26</th>\n",
       "      <th>V27</th>\n",
       "      <th>V28</th>\n",
       "      <th>Amount</th>\n",
       "      <th>Class</th>\n",
       "    </tr>\n",
       "  </thead>\n",
       "  <tbody>\n",
       "    <tr>\n",
       "      <th>0</th>\n",
       "      <td>0.0</td>\n",
       "      <td>-1.359807</td>\n",
       "      <td>-0.072781</td>\n",
       "      <td>2.536347</td>\n",
       "      <td>1.378155</td>\n",
       "      <td>-0.338321</td>\n",
       "      <td>0.462388</td>\n",
       "      <td>0.239599</td>\n",
       "      <td>0.098698</td>\n",
       "      <td>0.363787</td>\n",
       "      <td>...</td>\n",
       "      <td>-0.018307</td>\n",
       "      <td>0.277838</td>\n",
       "      <td>-0.110474</td>\n",
       "      <td>0.066928</td>\n",
       "      <td>0.128539</td>\n",
       "      <td>-0.189115</td>\n",
       "      <td>0.133558</td>\n",
       "      <td>-0.021053</td>\n",
       "      <td>149.62</td>\n",
       "      <td>0</td>\n",
       "    </tr>\n",
       "    <tr>\n",
       "      <th>1</th>\n",
       "      <td>0.0</td>\n",
       "      <td>1.191857</td>\n",
       "      <td>0.266151</td>\n",
       "      <td>0.166480</td>\n",
       "      <td>0.448154</td>\n",
       "      <td>0.060018</td>\n",
       "      <td>-0.082361</td>\n",
       "      <td>-0.078803</td>\n",
       "      <td>0.085102</td>\n",
       "      <td>-0.255425</td>\n",
       "      <td>...</td>\n",
       "      <td>-0.225775</td>\n",
       "      <td>-0.638672</td>\n",
       "      <td>0.101288</td>\n",
       "      <td>-0.339846</td>\n",
       "      <td>0.167170</td>\n",
       "      <td>0.125895</td>\n",
       "      <td>-0.008983</td>\n",
       "      <td>0.014724</td>\n",
       "      <td>2.69</td>\n",
       "      <td>0</td>\n",
       "    </tr>\n",
       "    <tr>\n",
       "      <th>2</th>\n",
       "      <td>1.0</td>\n",
       "      <td>-1.358354</td>\n",
       "      <td>-1.340163</td>\n",
       "      <td>1.773209</td>\n",
       "      <td>0.379780</td>\n",
       "      <td>-0.503198</td>\n",
       "      <td>1.800499</td>\n",
       "      <td>0.791461</td>\n",
       "      <td>0.247676</td>\n",
       "      <td>-1.514654</td>\n",
       "      <td>...</td>\n",
       "      <td>0.247998</td>\n",
       "      <td>0.771679</td>\n",
       "      <td>0.909412</td>\n",
       "      <td>-0.689281</td>\n",
       "      <td>-0.327642</td>\n",
       "      <td>-0.139097</td>\n",
       "      <td>-0.055353</td>\n",
       "      <td>-0.059752</td>\n",
       "      <td>378.66</td>\n",
       "      <td>0</td>\n",
       "    </tr>\n",
       "    <tr>\n",
       "      <th>3</th>\n",
       "      <td>1.0</td>\n",
       "      <td>-0.966272</td>\n",
       "      <td>-0.185226</td>\n",
       "      <td>1.792993</td>\n",
       "      <td>-0.863291</td>\n",
       "      <td>-0.010309</td>\n",
       "      <td>1.247203</td>\n",
       "      <td>0.237609</td>\n",
       "      <td>0.377436</td>\n",
       "      <td>-1.387024</td>\n",
       "      <td>...</td>\n",
       "      <td>-0.108300</td>\n",
       "      <td>0.005274</td>\n",
       "      <td>-0.190321</td>\n",
       "      <td>-1.175575</td>\n",
       "      <td>0.647376</td>\n",
       "      <td>-0.221929</td>\n",
       "      <td>0.062723</td>\n",
       "      <td>0.061458</td>\n",
       "      <td>123.50</td>\n",
       "      <td>0</td>\n",
       "    </tr>\n",
       "    <tr>\n",
       "      <th>4</th>\n",
       "      <td>2.0</td>\n",
       "      <td>-1.158233</td>\n",
       "      <td>0.877737</td>\n",
       "      <td>1.548718</td>\n",
       "      <td>0.403034</td>\n",
       "      <td>-0.407193</td>\n",
       "      <td>0.095921</td>\n",
       "      <td>0.592941</td>\n",
       "      <td>-0.270533</td>\n",
       "      <td>0.817739</td>\n",
       "      <td>...</td>\n",
       "      <td>-0.009431</td>\n",
       "      <td>0.798278</td>\n",
       "      <td>-0.137458</td>\n",
       "      <td>0.141267</td>\n",
       "      <td>-0.206010</td>\n",
       "      <td>0.502292</td>\n",
       "      <td>0.219422</td>\n",
       "      <td>0.215153</td>\n",
       "      <td>69.99</td>\n",
       "      <td>0</td>\n",
       "    </tr>\n",
       "  </tbody>\n",
       "</table>\n",
       "<p>5 rows × 31 columns</p>\n",
       "</div>"
      ],
      "text/plain": [
       "   Time        V1        V2        V3        V4        V5        V6        V7  \\\n",
       "0   0.0 -1.359807 -0.072781  2.536347  1.378155 -0.338321  0.462388  0.239599   \n",
       "1   0.0  1.191857  0.266151  0.166480  0.448154  0.060018 -0.082361 -0.078803   \n",
       "2   1.0 -1.358354 -1.340163  1.773209  0.379780 -0.503198  1.800499  0.791461   \n",
       "3   1.0 -0.966272 -0.185226  1.792993 -0.863291 -0.010309  1.247203  0.237609   \n",
       "4   2.0 -1.158233  0.877737  1.548718  0.403034 -0.407193  0.095921  0.592941   \n",
       "\n",
       "         V8        V9  ...       V21       V22       V23       V24       V25  \\\n",
       "0  0.098698  0.363787  ... -0.018307  0.277838 -0.110474  0.066928  0.128539   \n",
       "1  0.085102 -0.255425  ... -0.225775 -0.638672  0.101288 -0.339846  0.167170   \n",
       "2  0.247676 -1.514654  ...  0.247998  0.771679  0.909412 -0.689281 -0.327642   \n",
       "3  0.377436 -1.387024  ... -0.108300  0.005274 -0.190321 -1.175575  0.647376   \n",
       "4 -0.270533  0.817739  ... -0.009431  0.798278 -0.137458  0.141267 -0.206010   \n",
       "\n",
       "        V26       V27       V28  Amount  Class  \n",
       "0 -0.189115  0.133558 -0.021053  149.62      0  \n",
       "1  0.125895 -0.008983  0.014724    2.69      0  \n",
       "2 -0.139097 -0.055353 -0.059752  378.66      0  \n",
       "3 -0.221929  0.062723  0.061458  123.50      0  \n",
       "4  0.502292  0.219422  0.215153   69.99      0  \n",
       "\n",
       "[5 rows x 31 columns]"
      ]
     },
     "execution_count": 4,
     "metadata": {},
     "output_type": "execute_result"
    }
   ],
   "source": [
    "data.head()\n"
   ]
  },
  {
   "cell_type": "code",
   "execution_count": 5,
   "id": "d1699cbe",
   "metadata": {},
   "outputs": [
    {
     "name": "stdout",
     "output_type": "stream",
     "text": [
      "There are 284807 rows and 31 columns\n"
     ]
    }
   ],
   "source": [
    "nRow, nCol = data.shape\n",
    "print(f'There are {nRow} rows and {nCol} columns')"
   ]
  },
  {
   "cell_type": "code",
   "execution_count": 6,
   "id": "5148e98c",
   "metadata": {},
   "outputs": [
    {
     "data": {
      "text/plain": [
       "Time      float64\n",
       "V1        float64\n",
       "V2        float64\n",
       "V3        float64\n",
       "V4        float64\n",
       "V5        float64\n",
       "V6        float64\n",
       "V7        float64\n",
       "V8        float64\n",
       "V9        float64\n",
       "V10       float64\n",
       "V11       float64\n",
       "V12       float64\n",
       "V13       float64\n",
       "V14       float64\n",
       "V15       float64\n",
       "V16       float64\n",
       "V17       float64\n",
       "V18       float64\n",
       "V19       float64\n",
       "V20       float64\n",
       "V21       float64\n",
       "V22       float64\n",
       "V23       float64\n",
       "V24       float64\n",
       "V25       float64\n",
       "V26       float64\n",
       "V27       float64\n",
       "V28       float64\n",
       "Amount    float64\n",
       "Class       int64\n",
       "dtype: object"
      ]
     },
     "execution_count": 6,
     "metadata": {},
     "output_type": "execute_result"
    }
   ],
   "source": [
    "data.dtypes\n"
   ]
  },
  {
   "cell_type": "code",
   "execution_count": 7,
   "id": "28f18139",
   "metadata": {},
   "outputs": [
    {
     "name": "stdout",
     "output_type": "stream",
     "text": [
      "<class 'pandas.core.frame.DataFrame'>\n",
      "RangeIndex: 284807 entries, 0 to 284806\n",
      "Data columns (total 31 columns):\n",
      " #   Column  Non-Null Count   Dtype  \n",
      "---  ------  --------------   -----  \n",
      " 0   Time    284807 non-null  float64\n",
      " 1   V1      284807 non-null  float64\n",
      " 2   V2      284807 non-null  float64\n",
      " 3   V3      284807 non-null  float64\n",
      " 4   V4      284807 non-null  float64\n",
      " 5   V5      284807 non-null  float64\n",
      " 6   V6      284807 non-null  float64\n",
      " 7   V7      284807 non-null  float64\n",
      " 8   V8      284807 non-null  float64\n",
      " 9   V9      284807 non-null  float64\n",
      " 10  V10     284807 non-null  float64\n",
      " 11  V11     284807 non-null  float64\n",
      " 12  V12     284807 non-null  float64\n",
      " 13  V13     284807 non-null  float64\n",
      " 14  V14     284807 non-null  float64\n",
      " 15  V15     284807 non-null  float64\n",
      " 16  V16     284807 non-null  float64\n",
      " 17  V17     284807 non-null  float64\n",
      " 18  V18     284807 non-null  float64\n",
      " 19  V19     284807 non-null  float64\n",
      " 20  V20     284807 non-null  float64\n",
      " 21  V21     284807 non-null  float64\n",
      " 22  V22     284807 non-null  float64\n",
      " 23  V23     284807 non-null  float64\n",
      " 24  V24     284807 non-null  float64\n",
      " 25  V25     284807 non-null  float64\n",
      " 26  V26     284807 non-null  float64\n",
      " 27  V27     284807 non-null  float64\n",
      " 28  V28     284807 non-null  float64\n",
      " 29  Amount  284807 non-null  float64\n",
      " 30  Class   284807 non-null  int64  \n",
      "dtypes: float64(30), int64(1)\n",
      "memory usage: 67.4 MB\n"
     ]
    }
   ],
   "source": [
    "data.info()\n"
   ]
  },
  {
   "cell_type": "markdown",
   "id": "07d80b89",
   "metadata": {},
   "source": [
    "<span style=\"color:red;font-size: 15px \" >NB : Pas de valeurs manquantes, pas besoin de coder les données puisque il n'y a pas des attributs catégorielles.</span>.\n"
   ]
  },
  {
   "cell_type": "code",
   "execution_count": 8,
   "id": "d887367a",
   "metadata": {},
   "outputs": [
    {
     "data": {
      "text/html": [
       "<style type=\"text/css\">\n",
       "#T_d50ac_row0_col0, #T_d50ac_row0_col1, #T_d50ac_row0_col2, #T_d50ac_row0_col3, #T_d50ac_row0_col4, #T_d50ac_row0_col5, #T_d50ac_row0_col6, #T_d50ac_row0_col7, #T_d50ac_row0_col8, #T_d50ac_row0_col9, #T_d50ac_row0_col10, #T_d50ac_row0_col11, #T_d50ac_row0_col12, #T_d50ac_row0_col13, #T_d50ac_row0_col14, #T_d50ac_row0_col15, #T_d50ac_row0_col16, #T_d50ac_row0_col17, #T_d50ac_row0_col18, #T_d50ac_row0_col19, #T_d50ac_row0_col20, #T_d50ac_row0_col21, #T_d50ac_row0_col22, #T_d50ac_row0_col23, #T_d50ac_row0_col24, #T_d50ac_row0_col25, #T_d50ac_row0_col26, #T_d50ac_row0_col27, #T_d50ac_row0_col28, #T_d50ac_row0_col29, #T_d50ac_row0_col30 {\n",
       "  background-color: #023858;\n",
       "  color: #f1f1f1;\n",
       "}\n",
       "#T_d50ac_row1_col0 {\n",
       "  background-color: #b4c4df;\n",
       "  color: #000000;\n",
       "}\n",
       "#T_d50ac_row1_col1, #T_d50ac_row1_col2, #T_d50ac_row1_col3, #T_d50ac_row1_col4, #T_d50ac_row1_col5, #T_d50ac_row1_col6, #T_d50ac_row1_col7, #T_d50ac_row1_col8, #T_d50ac_row1_col9, #T_d50ac_row1_col10, #T_d50ac_row1_col11, #T_d50ac_row1_col12, #T_d50ac_row1_col13, #T_d50ac_row1_col14, #T_d50ac_row1_col15, #T_d50ac_row1_col16, #T_d50ac_row1_col17, #T_d50ac_row1_col18, #T_d50ac_row1_col19, #T_d50ac_row1_col20, #T_d50ac_row1_col21, #T_d50ac_row1_col22, #T_d50ac_row1_col23, #T_d50ac_row1_col24, #T_d50ac_row1_col25, #T_d50ac_row1_col26, #T_d50ac_row1_col27, #T_d50ac_row1_col28, #T_d50ac_row1_col29, #T_d50ac_row1_col30, #T_d50ac_row2_col1, #T_d50ac_row2_col2, #T_d50ac_row2_col3, #T_d50ac_row2_col4, #T_d50ac_row2_col5, #T_d50ac_row2_col6, #T_d50ac_row2_col7, #T_d50ac_row2_col8, #T_d50ac_row2_col9, #T_d50ac_row2_col10, #T_d50ac_row2_col11, #T_d50ac_row2_col12, #T_d50ac_row2_col13, #T_d50ac_row2_col14, #T_d50ac_row2_col15, #T_d50ac_row2_col16, #T_d50ac_row2_col17, #T_d50ac_row2_col18, #T_d50ac_row2_col19, #T_d50ac_row2_col20, #T_d50ac_row2_col21, #T_d50ac_row2_col22, #T_d50ac_row2_col23, #T_d50ac_row2_col24, #T_d50ac_row2_col25, #T_d50ac_row2_col26, #T_d50ac_row2_col27, #T_d50ac_row2_col28, #T_d50ac_row2_col29, #T_d50ac_row2_col30, #T_d50ac_row3_col0, #T_d50ac_row3_col1, #T_d50ac_row3_col2, #T_d50ac_row3_col3, #T_d50ac_row3_col4, #T_d50ac_row3_col5, #T_d50ac_row3_col6, #T_d50ac_row3_col7, #T_d50ac_row3_col8, #T_d50ac_row3_col9, #T_d50ac_row3_col10, #T_d50ac_row3_col11, #T_d50ac_row3_col12, #T_d50ac_row3_col13, #T_d50ac_row3_col14, #T_d50ac_row3_col15, #T_d50ac_row3_col16, #T_d50ac_row3_col17, #T_d50ac_row3_col18, #T_d50ac_row3_col19, #T_d50ac_row3_col20, #T_d50ac_row3_col21, #T_d50ac_row3_col22, #T_d50ac_row3_col23, #T_d50ac_row3_col24, #T_d50ac_row3_col25, #T_d50ac_row3_col26, #T_d50ac_row3_col27, #T_d50ac_row3_col28, #T_d50ac_row3_col29, #T_d50ac_row3_col30, #T_d50ac_row4_col1, #T_d50ac_row4_col2, #T_d50ac_row4_col3, #T_d50ac_row4_col4, #T_d50ac_row4_col5, #T_d50ac_row4_col6, #T_d50ac_row4_col7, #T_d50ac_row4_col8, #T_d50ac_row4_col9, #T_d50ac_row4_col10, #T_d50ac_row4_col11, #T_d50ac_row4_col12, #T_d50ac_row4_col13, #T_d50ac_row4_col14, #T_d50ac_row4_col15, #T_d50ac_row4_col16, #T_d50ac_row4_col17, #T_d50ac_row4_col18, #T_d50ac_row4_col19, #T_d50ac_row4_col20, #T_d50ac_row4_col21, #T_d50ac_row4_col22, #T_d50ac_row4_col23, #T_d50ac_row4_col24, #T_d50ac_row4_col25, #T_d50ac_row4_col26, #T_d50ac_row4_col27, #T_d50ac_row4_col28, #T_d50ac_row4_col29, #T_d50ac_row4_col30, #T_d50ac_row5_col1, #T_d50ac_row5_col2, #T_d50ac_row5_col3, #T_d50ac_row5_col4, #T_d50ac_row5_col5, #T_d50ac_row5_col6, #T_d50ac_row5_col7, #T_d50ac_row5_col8, #T_d50ac_row5_col9, #T_d50ac_row5_col10, #T_d50ac_row5_col11, #T_d50ac_row5_col12, #T_d50ac_row5_col13, #T_d50ac_row5_col14, #T_d50ac_row5_col15, #T_d50ac_row5_col16, #T_d50ac_row5_col17, #T_d50ac_row5_col18, #T_d50ac_row5_col19, #T_d50ac_row5_col20, #T_d50ac_row5_col21, #T_d50ac_row5_col22, #T_d50ac_row5_col23, #T_d50ac_row5_col24, #T_d50ac_row5_col25, #T_d50ac_row5_col26, #T_d50ac_row5_col27, #T_d50ac_row5_col28, #T_d50ac_row5_col29, #T_d50ac_row5_col30, #T_d50ac_row6_col1, #T_d50ac_row6_col2, #T_d50ac_row6_col3, #T_d50ac_row6_col4, #T_d50ac_row6_col5, #T_d50ac_row6_col6, #T_d50ac_row6_col7, #T_d50ac_row6_col8, #T_d50ac_row6_col9, #T_d50ac_row6_col10, #T_d50ac_row6_col11, #T_d50ac_row6_col12, #T_d50ac_row6_col13, #T_d50ac_row6_col14, #T_d50ac_row6_col15, #T_d50ac_row6_col16, #T_d50ac_row6_col17, #T_d50ac_row6_col18, #T_d50ac_row6_col19, #T_d50ac_row6_col20, #T_d50ac_row6_col21, #T_d50ac_row6_col22, #T_d50ac_row6_col23, #T_d50ac_row6_col24, #T_d50ac_row6_col25, #T_d50ac_row6_col26, #T_d50ac_row6_col27, #T_d50ac_row6_col28, #T_d50ac_row6_col29, #T_d50ac_row6_col30, #T_d50ac_row7_col1, #T_d50ac_row7_col2, #T_d50ac_row7_col3, #T_d50ac_row7_col4, #T_d50ac_row7_col5, #T_d50ac_row7_col6, #T_d50ac_row7_col7, #T_d50ac_row7_col8, #T_d50ac_row7_col9, #T_d50ac_row7_col10, #T_d50ac_row7_col11, #T_d50ac_row7_col12, #T_d50ac_row7_col13, #T_d50ac_row7_col14, #T_d50ac_row7_col15, #T_d50ac_row7_col16, #T_d50ac_row7_col17, #T_d50ac_row7_col18, #T_d50ac_row7_col19, #T_d50ac_row7_col20, #T_d50ac_row7_col21, #T_d50ac_row7_col22, #T_d50ac_row7_col23, #T_d50ac_row7_col24, #T_d50ac_row7_col25, #T_d50ac_row7_col26, #T_d50ac_row7_col27, #T_d50ac_row7_col28, #T_d50ac_row7_col30 {\n",
       "  background-color: #fff7fb;\n",
       "  color: #000000;\n",
       "}\n",
       "#T_d50ac_row2_col0 {\n",
       "  background-color: #e3e0ee;\n",
       "  color: #000000;\n",
       "}\n",
       "#T_d50ac_row4_col0 {\n",
       "  background-color: #dedcec;\n",
       "  color: #000000;\n",
       "}\n",
       "#T_d50ac_row5_col0 {\n",
       "  background-color: #c0c9e2;\n",
       "  color: #000000;\n",
       "}\n",
       "#T_d50ac_row6_col0 {\n",
       "  background-color: #78abd0;\n",
       "  color: #f1f1f1;\n",
       "}\n",
       "#T_d50ac_row7_col0 {\n",
       "  background-color: #3f93c2;\n",
       "  color: #f1f1f1;\n",
       "}\n",
       "#T_d50ac_row7_col29 {\n",
       "  background-color: #f1ebf5;\n",
       "  color: #000000;\n",
       "}\n",
       "</style>\n",
       "<table id=\"T_d50ac_\">\n",
       "  <thead>\n",
       "    <tr>\n",
       "      <th class=\"blank level0\" >&nbsp;</th>\n",
       "      <th class=\"col_heading level0 col0\" >Time</th>\n",
       "      <th class=\"col_heading level0 col1\" >V1</th>\n",
       "      <th class=\"col_heading level0 col2\" >V2</th>\n",
       "      <th class=\"col_heading level0 col3\" >V3</th>\n",
       "      <th class=\"col_heading level0 col4\" >V4</th>\n",
       "      <th class=\"col_heading level0 col5\" >V5</th>\n",
       "      <th class=\"col_heading level0 col6\" >V6</th>\n",
       "      <th class=\"col_heading level0 col7\" >V7</th>\n",
       "      <th class=\"col_heading level0 col8\" >V8</th>\n",
       "      <th class=\"col_heading level0 col9\" >V9</th>\n",
       "      <th class=\"col_heading level0 col10\" >V10</th>\n",
       "      <th class=\"col_heading level0 col11\" >V11</th>\n",
       "      <th class=\"col_heading level0 col12\" >V12</th>\n",
       "      <th class=\"col_heading level0 col13\" >V13</th>\n",
       "      <th class=\"col_heading level0 col14\" >V14</th>\n",
       "      <th class=\"col_heading level0 col15\" >V15</th>\n",
       "      <th class=\"col_heading level0 col16\" >V16</th>\n",
       "      <th class=\"col_heading level0 col17\" >V17</th>\n",
       "      <th class=\"col_heading level0 col18\" >V18</th>\n",
       "      <th class=\"col_heading level0 col19\" >V19</th>\n",
       "      <th class=\"col_heading level0 col20\" >V20</th>\n",
       "      <th class=\"col_heading level0 col21\" >V21</th>\n",
       "      <th class=\"col_heading level0 col22\" >V22</th>\n",
       "      <th class=\"col_heading level0 col23\" >V23</th>\n",
       "      <th class=\"col_heading level0 col24\" >V24</th>\n",
       "      <th class=\"col_heading level0 col25\" >V25</th>\n",
       "      <th class=\"col_heading level0 col26\" >V26</th>\n",
       "      <th class=\"col_heading level0 col27\" >V27</th>\n",
       "      <th class=\"col_heading level0 col28\" >V28</th>\n",
       "      <th class=\"col_heading level0 col29\" >Amount</th>\n",
       "      <th class=\"col_heading level0 col30\" >Class</th>\n",
       "    </tr>\n",
       "  </thead>\n",
       "  <tbody>\n",
       "    <tr>\n",
       "      <th id=\"T_d50ac_level0_row0\" class=\"row_heading level0 row0\" >count</th>\n",
       "      <td id=\"T_d50ac_row0_col0\" class=\"data row0 col0\" >284807.000000</td>\n",
       "      <td id=\"T_d50ac_row0_col1\" class=\"data row0 col1\" >284807.000000</td>\n",
       "      <td id=\"T_d50ac_row0_col2\" class=\"data row0 col2\" >284807.000000</td>\n",
       "      <td id=\"T_d50ac_row0_col3\" class=\"data row0 col3\" >284807.000000</td>\n",
       "      <td id=\"T_d50ac_row0_col4\" class=\"data row0 col4\" >284807.000000</td>\n",
       "      <td id=\"T_d50ac_row0_col5\" class=\"data row0 col5\" >284807.000000</td>\n",
       "      <td id=\"T_d50ac_row0_col6\" class=\"data row0 col6\" >284807.000000</td>\n",
       "      <td id=\"T_d50ac_row0_col7\" class=\"data row0 col7\" >284807.000000</td>\n",
       "      <td id=\"T_d50ac_row0_col8\" class=\"data row0 col8\" >284807.000000</td>\n",
       "      <td id=\"T_d50ac_row0_col9\" class=\"data row0 col9\" >284807.000000</td>\n",
       "      <td id=\"T_d50ac_row0_col10\" class=\"data row0 col10\" >284807.000000</td>\n",
       "      <td id=\"T_d50ac_row0_col11\" class=\"data row0 col11\" >284807.000000</td>\n",
       "      <td id=\"T_d50ac_row0_col12\" class=\"data row0 col12\" >284807.000000</td>\n",
       "      <td id=\"T_d50ac_row0_col13\" class=\"data row0 col13\" >284807.000000</td>\n",
       "      <td id=\"T_d50ac_row0_col14\" class=\"data row0 col14\" >284807.000000</td>\n",
       "      <td id=\"T_d50ac_row0_col15\" class=\"data row0 col15\" >284807.000000</td>\n",
       "      <td id=\"T_d50ac_row0_col16\" class=\"data row0 col16\" >284807.000000</td>\n",
       "      <td id=\"T_d50ac_row0_col17\" class=\"data row0 col17\" >284807.000000</td>\n",
       "      <td id=\"T_d50ac_row0_col18\" class=\"data row0 col18\" >284807.000000</td>\n",
       "      <td id=\"T_d50ac_row0_col19\" class=\"data row0 col19\" >284807.000000</td>\n",
       "      <td id=\"T_d50ac_row0_col20\" class=\"data row0 col20\" >284807.000000</td>\n",
       "      <td id=\"T_d50ac_row0_col21\" class=\"data row0 col21\" >284807.000000</td>\n",
       "      <td id=\"T_d50ac_row0_col22\" class=\"data row0 col22\" >284807.000000</td>\n",
       "      <td id=\"T_d50ac_row0_col23\" class=\"data row0 col23\" >284807.000000</td>\n",
       "      <td id=\"T_d50ac_row0_col24\" class=\"data row0 col24\" >284807.000000</td>\n",
       "      <td id=\"T_d50ac_row0_col25\" class=\"data row0 col25\" >284807.000000</td>\n",
       "      <td id=\"T_d50ac_row0_col26\" class=\"data row0 col26\" >284807.000000</td>\n",
       "      <td id=\"T_d50ac_row0_col27\" class=\"data row0 col27\" >284807.000000</td>\n",
       "      <td id=\"T_d50ac_row0_col28\" class=\"data row0 col28\" >284807.000000</td>\n",
       "      <td id=\"T_d50ac_row0_col29\" class=\"data row0 col29\" >284807.000000</td>\n",
       "      <td id=\"T_d50ac_row0_col30\" class=\"data row0 col30\" >284807.000000</td>\n",
       "    </tr>\n",
       "    <tr>\n",
       "      <th id=\"T_d50ac_level0_row1\" class=\"row_heading level0 row1\" >mean</th>\n",
       "      <td id=\"T_d50ac_row1_col0\" class=\"data row1 col0\" >94813.860000</td>\n",
       "      <td id=\"T_d50ac_row1_col1\" class=\"data row1 col1\" >0.000000</td>\n",
       "      <td id=\"T_d50ac_row1_col2\" class=\"data row1 col2\" >0.000000</td>\n",
       "      <td id=\"T_d50ac_row1_col3\" class=\"data row1 col3\" >-0.000000</td>\n",
       "      <td id=\"T_d50ac_row1_col4\" class=\"data row1 col4\" >0.000000</td>\n",
       "      <td id=\"T_d50ac_row1_col5\" class=\"data row1 col5\" >-0.000000</td>\n",
       "      <td id=\"T_d50ac_row1_col6\" class=\"data row1 col6\" >0.000000</td>\n",
       "      <td id=\"T_d50ac_row1_col7\" class=\"data row1 col7\" >-0.000000</td>\n",
       "      <td id=\"T_d50ac_row1_col8\" class=\"data row1 col8\" >-0.000000</td>\n",
       "      <td id=\"T_d50ac_row1_col9\" class=\"data row1 col9\" >-0.000000</td>\n",
       "      <td id=\"T_d50ac_row1_col10\" class=\"data row1 col10\" >0.000000</td>\n",
       "      <td id=\"T_d50ac_row1_col11\" class=\"data row1 col11\" >0.000000</td>\n",
       "      <td id=\"T_d50ac_row1_col12\" class=\"data row1 col12\" >-0.000000</td>\n",
       "      <td id=\"T_d50ac_row1_col13\" class=\"data row1 col13\" >0.000000</td>\n",
       "      <td id=\"T_d50ac_row1_col14\" class=\"data row1 col14\" >0.000000</td>\n",
       "      <td id=\"T_d50ac_row1_col15\" class=\"data row1 col15\" >0.000000</td>\n",
       "      <td id=\"T_d50ac_row1_col16\" class=\"data row1 col16\" >0.000000</td>\n",
       "      <td id=\"T_d50ac_row1_col17\" class=\"data row1 col17\" >-0.000000</td>\n",
       "      <td id=\"T_d50ac_row1_col18\" class=\"data row1 col18\" >0.000000</td>\n",
       "      <td id=\"T_d50ac_row1_col19\" class=\"data row1 col19\" >0.000000</td>\n",
       "      <td id=\"T_d50ac_row1_col20\" class=\"data row1 col20\" >0.000000</td>\n",
       "      <td id=\"T_d50ac_row1_col21\" class=\"data row1 col21\" >0.000000</td>\n",
       "      <td id=\"T_d50ac_row1_col22\" class=\"data row1 col22\" >0.000000</td>\n",
       "      <td id=\"T_d50ac_row1_col23\" class=\"data row1 col23\" >0.000000</td>\n",
       "      <td id=\"T_d50ac_row1_col24\" class=\"data row1 col24\" >0.000000</td>\n",
       "      <td id=\"T_d50ac_row1_col25\" class=\"data row1 col25\" >0.000000</td>\n",
       "      <td id=\"T_d50ac_row1_col26\" class=\"data row1 col26\" >0.000000</td>\n",
       "      <td id=\"T_d50ac_row1_col27\" class=\"data row1 col27\" >-0.000000</td>\n",
       "      <td id=\"T_d50ac_row1_col28\" class=\"data row1 col28\" >-0.000000</td>\n",
       "      <td id=\"T_d50ac_row1_col29\" class=\"data row1 col29\" >88.350000</td>\n",
       "      <td id=\"T_d50ac_row1_col30\" class=\"data row1 col30\" >0.000000</td>\n",
       "    </tr>\n",
       "    <tr>\n",
       "      <th id=\"T_d50ac_level0_row2\" class=\"row_heading level0 row2\" >std</th>\n",
       "      <td id=\"T_d50ac_row2_col0\" class=\"data row2 col0\" >47488.150000</td>\n",
       "      <td id=\"T_d50ac_row2_col1\" class=\"data row2 col1\" >1.960000</td>\n",
       "      <td id=\"T_d50ac_row2_col2\" class=\"data row2 col2\" >1.650000</td>\n",
       "      <td id=\"T_d50ac_row2_col3\" class=\"data row2 col3\" >1.520000</td>\n",
       "      <td id=\"T_d50ac_row2_col4\" class=\"data row2 col4\" >1.420000</td>\n",
       "      <td id=\"T_d50ac_row2_col5\" class=\"data row2 col5\" >1.380000</td>\n",
       "      <td id=\"T_d50ac_row2_col6\" class=\"data row2 col6\" >1.330000</td>\n",
       "      <td id=\"T_d50ac_row2_col7\" class=\"data row2 col7\" >1.240000</td>\n",
       "      <td id=\"T_d50ac_row2_col8\" class=\"data row2 col8\" >1.190000</td>\n",
       "      <td id=\"T_d50ac_row2_col9\" class=\"data row2 col9\" >1.100000</td>\n",
       "      <td id=\"T_d50ac_row2_col10\" class=\"data row2 col10\" >1.090000</td>\n",
       "      <td id=\"T_d50ac_row2_col11\" class=\"data row2 col11\" >1.020000</td>\n",
       "      <td id=\"T_d50ac_row2_col12\" class=\"data row2 col12\" >1.000000</td>\n",
       "      <td id=\"T_d50ac_row2_col13\" class=\"data row2 col13\" >1.000000</td>\n",
       "      <td id=\"T_d50ac_row2_col14\" class=\"data row2 col14\" >0.960000</td>\n",
       "      <td id=\"T_d50ac_row2_col15\" class=\"data row2 col15\" >0.920000</td>\n",
       "      <td id=\"T_d50ac_row2_col16\" class=\"data row2 col16\" >0.880000</td>\n",
       "      <td id=\"T_d50ac_row2_col17\" class=\"data row2 col17\" >0.850000</td>\n",
       "      <td id=\"T_d50ac_row2_col18\" class=\"data row2 col18\" >0.840000</td>\n",
       "      <td id=\"T_d50ac_row2_col19\" class=\"data row2 col19\" >0.810000</td>\n",
       "      <td id=\"T_d50ac_row2_col20\" class=\"data row2 col20\" >0.770000</td>\n",
       "      <td id=\"T_d50ac_row2_col21\" class=\"data row2 col21\" >0.730000</td>\n",
       "      <td id=\"T_d50ac_row2_col22\" class=\"data row2 col22\" >0.730000</td>\n",
       "      <td id=\"T_d50ac_row2_col23\" class=\"data row2 col23\" >0.620000</td>\n",
       "      <td id=\"T_d50ac_row2_col24\" class=\"data row2 col24\" >0.610000</td>\n",
       "      <td id=\"T_d50ac_row2_col25\" class=\"data row2 col25\" >0.520000</td>\n",
       "      <td id=\"T_d50ac_row2_col26\" class=\"data row2 col26\" >0.480000</td>\n",
       "      <td id=\"T_d50ac_row2_col27\" class=\"data row2 col27\" >0.400000</td>\n",
       "      <td id=\"T_d50ac_row2_col28\" class=\"data row2 col28\" >0.330000</td>\n",
       "      <td id=\"T_d50ac_row2_col29\" class=\"data row2 col29\" >250.120000</td>\n",
       "      <td id=\"T_d50ac_row2_col30\" class=\"data row2 col30\" >0.040000</td>\n",
       "    </tr>\n",
       "    <tr>\n",
       "      <th id=\"T_d50ac_level0_row3\" class=\"row_heading level0 row3\" >min</th>\n",
       "      <td id=\"T_d50ac_row3_col0\" class=\"data row3 col0\" >0.000000</td>\n",
       "      <td id=\"T_d50ac_row3_col1\" class=\"data row3 col1\" >-56.410000</td>\n",
       "      <td id=\"T_d50ac_row3_col2\" class=\"data row3 col2\" >-72.720000</td>\n",
       "      <td id=\"T_d50ac_row3_col3\" class=\"data row3 col3\" >-48.330000</td>\n",
       "      <td id=\"T_d50ac_row3_col4\" class=\"data row3 col4\" >-5.680000</td>\n",
       "      <td id=\"T_d50ac_row3_col5\" class=\"data row3 col5\" >-113.740000</td>\n",
       "      <td id=\"T_d50ac_row3_col6\" class=\"data row3 col6\" >-26.160000</td>\n",
       "      <td id=\"T_d50ac_row3_col7\" class=\"data row3 col7\" >-43.560000</td>\n",
       "      <td id=\"T_d50ac_row3_col8\" class=\"data row3 col8\" >-73.220000</td>\n",
       "      <td id=\"T_d50ac_row3_col9\" class=\"data row3 col9\" >-13.430000</td>\n",
       "      <td id=\"T_d50ac_row3_col10\" class=\"data row3 col10\" >-24.590000</td>\n",
       "      <td id=\"T_d50ac_row3_col11\" class=\"data row3 col11\" >-4.800000</td>\n",
       "      <td id=\"T_d50ac_row3_col12\" class=\"data row3 col12\" >-18.680000</td>\n",
       "      <td id=\"T_d50ac_row3_col13\" class=\"data row3 col13\" >-5.790000</td>\n",
       "      <td id=\"T_d50ac_row3_col14\" class=\"data row3 col14\" >-19.210000</td>\n",
       "      <td id=\"T_d50ac_row3_col15\" class=\"data row3 col15\" >-4.500000</td>\n",
       "      <td id=\"T_d50ac_row3_col16\" class=\"data row3 col16\" >-14.130000</td>\n",
       "      <td id=\"T_d50ac_row3_col17\" class=\"data row3 col17\" >-25.160000</td>\n",
       "      <td id=\"T_d50ac_row3_col18\" class=\"data row3 col18\" >-9.500000</td>\n",
       "      <td id=\"T_d50ac_row3_col19\" class=\"data row3 col19\" >-7.210000</td>\n",
       "      <td id=\"T_d50ac_row3_col20\" class=\"data row3 col20\" >-54.500000</td>\n",
       "      <td id=\"T_d50ac_row3_col21\" class=\"data row3 col21\" >-34.830000</td>\n",
       "      <td id=\"T_d50ac_row3_col22\" class=\"data row3 col22\" >-10.930000</td>\n",
       "      <td id=\"T_d50ac_row3_col23\" class=\"data row3 col23\" >-44.810000</td>\n",
       "      <td id=\"T_d50ac_row3_col24\" class=\"data row3 col24\" >-2.840000</td>\n",
       "      <td id=\"T_d50ac_row3_col25\" class=\"data row3 col25\" >-10.300000</td>\n",
       "      <td id=\"T_d50ac_row3_col26\" class=\"data row3 col26\" >-2.600000</td>\n",
       "      <td id=\"T_d50ac_row3_col27\" class=\"data row3 col27\" >-22.570000</td>\n",
       "      <td id=\"T_d50ac_row3_col28\" class=\"data row3 col28\" >-15.430000</td>\n",
       "      <td id=\"T_d50ac_row3_col29\" class=\"data row3 col29\" >0.000000</td>\n",
       "      <td id=\"T_d50ac_row3_col30\" class=\"data row3 col30\" >0.000000</td>\n",
       "    </tr>\n",
       "    <tr>\n",
       "      <th id=\"T_d50ac_level0_row4\" class=\"row_heading level0 row4\" >25%</th>\n",
       "      <td id=\"T_d50ac_row4_col0\" class=\"data row4 col0\" >54201.500000</td>\n",
       "      <td id=\"T_d50ac_row4_col1\" class=\"data row4 col1\" >-0.920000</td>\n",
       "      <td id=\"T_d50ac_row4_col2\" class=\"data row4 col2\" >-0.600000</td>\n",
       "      <td id=\"T_d50ac_row4_col3\" class=\"data row4 col3\" >-0.890000</td>\n",
       "      <td id=\"T_d50ac_row4_col4\" class=\"data row4 col4\" >-0.850000</td>\n",
       "      <td id=\"T_d50ac_row4_col5\" class=\"data row4 col5\" >-0.690000</td>\n",
       "      <td id=\"T_d50ac_row4_col6\" class=\"data row4 col6\" >-0.770000</td>\n",
       "      <td id=\"T_d50ac_row4_col7\" class=\"data row4 col7\" >-0.550000</td>\n",
       "      <td id=\"T_d50ac_row4_col8\" class=\"data row4 col8\" >-0.210000</td>\n",
       "      <td id=\"T_d50ac_row4_col9\" class=\"data row4 col9\" >-0.640000</td>\n",
       "      <td id=\"T_d50ac_row4_col10\" class=\"data row4 col10\" >-0.540000</td>\n",
       "      <td id=\"T_d50ac_row4_col11\" class=\"data row4 col11\" >-0.760000</td>\n",
       "      <td id=\"T_d50ac_row4_col12\" class=\"data row4 col12\" >-0.410000</td>\n",
       "      <td id=\"T_d50ac_row4_col13\" class=\"data row4 col13\" >-0.650000</td>\n",
       "      <td id=\"T_d50ac_row4_col14\" class=\"data row4 col14\" >-0.430000</td>\n",
       "      <td id=\"T_d50ac_row4_col15\" class=\"data row4 col15\" >-0.580000</td>\n",
       "      <td id=\"T_d50ac_row4_col16\" class=\"data row4 col16\" >-0.470000</td>\n",
       "      <td id=\"T_d50ac_row4_col17\" class=\"data row4 col17\" >-0.480000</td>\n",
       "      <td id=\"T_d50ac_row4_col18\" class=\"data row4 col18\" >-0.500000</td>\n",
       "      <td id=\"T_d50ac_row4_col19\" class=\"data row4 col19\" >-0.460000</td>\n",
       "      <td id=\"T_d50ac_row4_col20\" class=\"data row4 col20\" >-0.210000</td>\n",
       "      <td id=\"T_d50ac_row4_col21\" class=\"data row4 col21\" >-0.230000</td>\n",
       "      <td id=\"T_d50ac_row4_col22\" class=\"data row4 col22\" >-0.540000</td>\n",
       "      <td id=\"T_d50ac_row4_col23\" class=\"data row4 col23\" >-0.160000</td>\n",
       "      <td id=\"T_d50ac_row4_col24\" class=\"data row4 col24\" >-0.350000</td>\n",
       "      <td id=\"T_d50ac_row4_col25\" class=\"data row4 col25\" >-0.320000</td>\n",
       "      <td id=\"T_d50ac_row4_col26\" class=\"data row4 col26\" >-0.330000</td>\n",
       "      <td id=\"T_d50ac_row4_col27\" class=\"data row4 col27\" >-0.070000</td>\n",
       "      <td id=\"T_d50ac_row4_col28\" class=\"data row4 col28\" >-0.050000</td>\n",
       "      <td id=\"T_d50ac_row4_col29\" class=\"data row4 col29\" >5.600000</td>\n",
       "      <td id=\"T_d50ac_row4_col30\" class=\"data row4 col30\" >0.000000</td>\n",
       "    </tr>\n",
       "    <tr>\n",
       "      <th id=\"T_d50ac_level0_row5\" class=\"row_heading level0 row5\" >50%</th>\n",
       "      <td id=\"T_d50ac_row5_col0\" class=\"data row5 col0\" >84692.000000</td>\n",
       "      <td id=\"T_d50ac_row5_col1\" class=\"data row5 col1\" >0.020000</td>\n",
       "      <td id=\"T_d50ac_row5_col2\" class=\"data row5 col2\" >0.070000</td>\n",
       "      <td id=\"T_d50ac_row5_col3\" class=\"data row5 col3\" >0.180000</td>\n",
       "      <td id=\"T_d50ac_row5_col4\" class=\"data row5 col4\" >-0.020000</td>\n",
       "      <td id=\"T_d50ac_row5_col5\" class=\"data row5 col5\" >-0.050000</td>\n",
       "      <td id=\"T_d50ac_row5_col6\" class=\"data row5 col6\" >-0.270000</td>\n",
       "      <td id=\"T_d50ac_row5_col7\" class=\"data row5 col7\" >0.040000</td>\n",
       "      <td id=\"T_d50ac_row5_col8\" class=\"data row5 col8\" >0.020000</td>\n",
       "      <td id=\"T_d50ac_row5_col9\" class=\"data row5 col9\" >-0.050000</td>\n",
       "      <td id=\"T_d50ac_row5_col10\" class=\"data row5 col10\" >-0.090000</td>\n",
       "      <td id=\"T_d50ac_row5_col11\" class=\"data row5 col11\" >-0.030000</td>\n",
       "      <td id=\"T_d50ac_row5_col12\" class=\"data row5 col12\" >0.140000</td>\n",
       "      <td id=\"T_d50ac_row5_col13\" class=\"data row5 col13\" >-0.010000</td>\n",
       "      <td id=\"T_d50ac_row5_col14\" class=\"data row5 col14\" >0.050000</td>\n",
       "      <td id=\"T_d50ac_row5_col15\" class=\"data row5 col15\" >0.050000</td>\n",
       "      <td id=\"T_d50ac_row5_col16\" class=\"data row5 col16\" >0.070000</td>\n",
       "      <td id=\"T_d50ac_row5_col17\" class=\"data row5 col17\" >-0.070000</td>\n",
       "      <td id=\"T_d50ac_row5_col18\" class=\"data row5 col18\" >-0.000000</td>\n",
       "      <td id=\"T_d50ac_row5_col19\" class=\"data row5 col19\" >0.000000</td>\n",
       "      <td id=\"T_d50ac_row5_col20\" class=\"data row5 col20\" >-0.060000</td>\n",
       "      <td id=\"T_d50ac_row5_col21\" class=\"data row5 col21\" >-0.030000</td>\n",
       "      <td id=\"T_d50ac_row5_col22\" class=\"data row5 col22\" >0.010000</td>\n",
       "      <td id=\"T_d50ac_row5_col23\" class=\"data row5 col23\" >-0.010000</td>\n",
       "      <td id=\"T_d50ac_row5_col24\" class=\"data row5 col24\" >0.040000</td>\n",
       "      <td id=\"T_d50ac_row5_col25\" class=\"data row5 col25\" >0.020000</td>\n",
       "      <td id=\"T_d50ac_row5_col26\" class=\"data row5 col26\" >-0.050000</td>\n",
       "      <td id=\"T_d50ac_row5_col27\" class=\"data row5 col27\" >0.000000</td>\n",
       "      <td id=\"T_d50ac_row5_col28\" class=\"data row5 col28\" >0.010000</td>\n",
       "      <td id=\"T_d50ac_row5_col29\" class=\"data row5 col29\" >22.000000</td>\n",
       "      <td id=\"T_d50ac_row5_col30\" class=\"data row5 col30\" >0.000000</td>\n",
       "    </tr>\n",
       "    <tr>\n",
       "      <th id=\"T_d50ac_level0_row6\" class=\"row_heading level0 row6\" >75%</th>\n",
       "      <td id=\"T_d50ac_row6_col0\" class=\"data row6 col0\" >139320.500000</td>\n",
       "      <td id=\"T_d50ac_row6_col1\" class=\"data row6 col1\" >1.320000</td>\n",
       "      <td id=\"T_d50ac_row6_col2\" class=\"data row6 col2\" >0.800000</td>\n",
       "      <td id=\"T_d50ac_row6_col3\" class=\"data row6 col3\" >1.030000</td>\n",
       "      <td id=\"T_d50ac_row6_col4\" class=\"data row6 col4\" >0.740000</td>\n",
       "      <td id=\"T_d50ac_row6_col5\" class=\"data row6 col5\" >0.610000</td>\n",
       "      <td id=\"T_d50ac_row6_col6\" class=\"data row6 col6\" >0.400000</td>\n",
       "      <td id=\"T_d50ac_row6_col7\" class=\"data row6 col7\" >0.570000</td>\n",
       "      <td id=\"T_d50ac_row6_col8\" class=\"data row6 col8\" >0.330000</td>\n",
       "      <td id=\"T_d50ac_row6_col9\" class=\"data row6 col9\" >0.600000</td>\n",
       "      <td id=\"T_d50ac_row6_col10\" class=\"data row6 col10\" >0.450000</td>\n",
       "      <td id=\"T_d50ac_row6_col11\" class=\"data row6 col11\" >0.740000</td>\n",
       "      <td id=\"T_d50ac_row6_col12\" class=\"data row6 col12\" >0.620000</td>\n",
       "      <td id=\"T_d50ac_row6_col13\" class=\"data row6 col13\" >0.660000</td>\n",
       "      <td id=\"T_d50ac_row6_col14\" class=\"data row6 col14\" >0.490000</td>\n",
       "      <td id=\"T_d50ac_row6_col15\" class=\"data row6 col15\" >0.650000</td>\n",
       "      <td id=\"T_d50ac_row6_col16\" class=\"data row6 col16\" >0.520000</td>\n",
       "      <td id=\"T_d50ac_row6_col17\" class=\"data row6 col17\" >0.400000</td>\n",
       "      <td id=\"T_d50ac_row6_col18\" class=\"data row6 col18\" >0.500000</td>\n",
       "      <td id=\"T_d50ac_row6_col19\" class=\"data row6 col19\" >0.460000</td>\n",
       "      <td id=\"T_d50ac_row6_col20\" class=\"data row6 col20\" >0.130000</td>\n",
       "      <td id=\"T_d50ac_row6_col21\" class=\"data row6 col21\" >0.190000</td>\n",
       "      <td id=\"T_d50ac_row6_col22\" class=\"data row6 col22\" >0.530000</td>\n",
       "      <td id=\"T_d50ac_row6_col23\" class=\"data row6 col23\" >0.150000</td>\n",
       "      <td id=\"T_d50ac_row6_col24\" class=\"data row6 col24\" >0.440000</td>\n",
       "      <td id=\"T_d50ac_row6_col25\" class=\"data row6 col25\" >0.350000</td>\n",
       "      <td id=\"T_d50ac_row6_col26\" class=\"data row6 col26\" >0.240000</td>\n",
       "      <td id=\"T_d50ac_row6_col27\" class=\"data row6 col27\" >0.090000</td>\n",
       "      <td id=\"T_d50ac_row6_col28\" class=\"data row6 col28\" >0.080000</td>\n",
       "      <td id=\"T_d50ac_row6_col29\" class=\"data row6 col29\" >77.160000</td>\n",
       "      <td id=\"T_d50ac_row6_col30\" class=\"data row6 col30\" >0.000000</td>\n",
       "    </tr>\n",
       "    <tr>\n",
       "      <th id=\"T_d50ac_level0_row7\" class=\"row_heading level0 row7\" >max</th>\n",
       "      <td id=\"T_d50ac_row7_col0\" class=\"data row7 col0\" >172792.000000</td>\n",
       "      <td id=\"T_d50ac_row7_col1\" class=\"data row7 col1\" >2.450000</td>\n",
       "      <td id=\"T_d50ac_row7_col2\" class=\"data row7 col2\" >22.060000</td>\n",
       "      <td id=\"T_d50ac_row7_col3\" class=\"data row7 col3\" >9.380000</td>\n",
       "      <td id=\"T_d50ac_row7_col4\" class=\"data row7 col4\" >16.880000</td>\n",
       "      <td id=\"T_d50ac_row7_col5\" class=\"data row7 col5\" >34.800000</td>\n",
       "      <td id=\"T_d50ac_row7_col6\" class=\"data row7 col6\" >73.300000</td>\n",
       "      <td id=\"T_d50ac_row7_col7\" class=\"data row7 col7\" >120.590000</td>\n",
       "      <td id=\"T_d50ac_row7_col8\" class=\"data row7 col8\" >20.010000</td>\n",
       "      <td id=\"T_d50ac_row7_col9\" class=\"data row7 col9\" >15.590000</td>\n",
       "      <td id=\"T_d50ac_row7_col10\" class=\"data row7 col10\" >23.750000</td>\n",
       "      <td id=\"T_d50ac_row7_col11\" class=\"data row7 col11\" >12.020000</td>\n",
       "      <td id=\"T_d50ac_row7_col12\" class=\"data row7 col12\" >7.850000</td>\n",
       "      <td id=\"T_d50ac_row7_col13\" class=\"data row7 col13\" >7.130000</td>\n",
       "      <td id=\"T_d50ac_row7_col14\" class=\"data row7 col14\" >10.530000</td>\n",
       "      <td id=\"T_d50ac_row7_col15\" class=\"data row7 col15\" >8.880000</td>\n",
       "      <td id=\"T_d50ac_row7_col16\" class=\"data row7 col16\" >17.320000</td>\n",
       "      <td id=\"T_d50ac_row7_col17\" class=\"data row7 col17\" >9.250000</td>\n",
       "      <td id=\"T_d50ac_row7_col18\" class=\"data row7 col18\" >5.040000</td>\n",
       "      <td id=\"T_d50ac_row7_col19\" class=\"data row7 col19\" >5.590000</td>\n",
       "      <td id=\"T_d50ac_row7_col20\" class=\"data row7 col20\" >39.420000</td>\n",
       "      <td id=\"T_d50ac_row7_col21\" class=\"data row7 col21\" >27.200000</td>\n",
       "      <td id=\"T_d50ac_row7_col22\" class=\"data row7 col22\" >10.500000</td>\n",
       "      <td id=\"T_d50ac_row7_col23\" class=\"data row7 col23\" >22.530000</td>\n",
       "      <td id=\"T_d50ac_row7_col24\" class=\"data row7 col24\" >4.580000</td>\n",
       "      <td id=\"T_d50ac_row7_col25\" class=\"data row7 col25\" >7.520000</td>\n",
       "      <td id=\"T_d50ac_row7_col26\" class=\"data row7 col26\" >3.520000</td>\n",
       "      <td id=\"T_d50ac_row7_col27\" class=\"data row7 col27\" >31.610000</td>\n",
       "      <td id=\"T_d50ac_row7_col28\" class=\"data row7 col28\" >33.850000</td>\n",
       "      <td id=\"T_d50ac_row7_col29\" class=\"data row7 col29\" >25691.160000</td>\n",
       "      <td id=\"T_d50ac_row7_col30\" class=\"data row7 col30\" >1.000000</td>\n",
       "    </tr>\n",
       "  </tbody>\n",
       "</table>\n"
      ],
      "text/plain": [
       "<pandas.io.formats.style.Styler at 0x2cfc7b2c640>"
      ]
     },
     "execution_count": 8,
     "metadata": {},
     "output_type": "execute_result"
    }
   ],
   "source": [
    "data.describe().round(2).style.background_gradient()\n"
   ]
  },
  {
   "cell_type": "code",
   "execution_count": 9,
   "id": "853569fe",
   "metadata": {},
   "outputs": [
    {
     "data": {
      "text/plain": [
       "Time      0\n",
       "V1        0\n",
       "V2        0\n",
       "V3        0\n",
       "V4        0\n",
       "V5        0\n",
       "V6        0\n",
       "V7        0\n",
       "V8        0\n",
       "V9        0\n",
       "V10       0\n",
       "V11       0\n",
       "V12       0\n",
       "V13       0\n",
       "V14       0\n",
       "V15       0\n",
       "V16       0\n",
       "V17       0\n",
       "V18       0\n",
       "V19       0\n",
       "V20       0\n",
       "V21       0\n",
       "V22       0\n",
       "V23       0\n",
       "V24       0\n",
       "V25       0\n",
       "V26       0\n",
       "V27       0\n",
       "V28       0\n",
       "Amount    0\n",
       "Class     0\n",
       "dtype: int64"
      ]
     },
     "execution_count": 9,
     "metadata": {},
     "output_type": "execute_result"
    }
   ],
   "source": [
    "data.isnull().sum()\n"
   ]
  },
  {
   "cell_type": "markdown",
   "id": "487e8317",
   "metadata": {},
   "source": [
    "<span style=\"color:blue;font-size: 15px \" >=> pas de variables nulles</span>.\n"
   ]
  },
  {
   "cell_type": "code",
   "execution_count": 10,
   "id": "06b208e5",
   "metadata": {},
   "outputs": [
    {
     "data": {
      "text/plain": [
       "1081"
      ]
     },
     "execution_count": 10,
     "metadata": {},
     "output_type": "execute_result"
    }
   ],
   "source": [
    "data.duplicated().sum()\n"
   ]
  },
  {
   "cell_type": "markdown",
   "id": "8830389e",
   "metadata": {},
   "source": [
    "<span style=\"color:blue;font-size: 15px \" >il ya beaucoup de valeurs dupliqués , donc il faut les supprimer.</span>.\n"
   ]
  },
  {
   "cell_type": "code",
   "execution_count": 11,
   "id": "721cdf9a",
   "metadata": {},
   "outputs": [],
   "source": [
    "data = data.drop_duplicates()\n"
   ]
  },
  {
   "cell_type": "code",
   "execution_count": 12,
   "id": "5e2186d5",
   "metadata": {},
   "outputs": [
    {
     "data": {
      "text/plain": [
       "0"
      ]
     },
     "execution_count": 12,
     "metadata": {},
     "output_type": "execute_result"
    }
   ],
   "source": [
    "data.duplicated().sum()\n"
   ]
  },
  {
   "cell_type": "code",
   "execution_count": 13,
   "id": "6b2e4c57",
   "metadata": {},
   "outputs": [
    {
     "data": {
      "text/plain": [
       "<AxesSubplot:xlabel='Class', ylabel='count'>"
      ]
     },
     "execution_count": 13,
     "metadata": {},
     "output_type": "execute_result"
    },
    {
     "data": {
      "image/png": "[encoded data removed]",
      "text/plain": [
       "<Figure size 432x288 with 1 Axes>"
      ]
     },
     "metadata": {
      "needs_background": "light"
     },
     "output_type": "display_data"
    }
   ],
   "source": [
    "sns.countplot(x='Class',data=data,palette=\"pastel\")\n"
   ]
  },
  {
   "cell_type": "code",
   "execution_count": 18,
   "id": "d6301ac3",
   "metadata": {},
   "outputs": [
    {
     "data": {
      "application/vnd.plotly.v1+json": {
       "config": {
        "plotlyServerURL": "https://plot.ly"
       },
       "data": [
        {
         "domain": {
          "x": [
           0,
           1
          ],
          "y": [
           0,
           1
          ]
         },
         "hovertemplate": "label=%{label}<br>value=%{value}<extra></extra>",
         "labels": [
          "Not Fraud",
          "Frauds"
         ],
         "legendgroup": "",
         "name": "",
         "showlegend": true,
         "type": "pie",
         "values": [
          284315,
          492
         ]
        }
       ],
       "layout": {
        "height": 400,
        "legend": {
         "tracegroupgap": 0
        },
        "piecolorway": [
         "skyblue",
         "black"
        ],
        "template": {
         "data": {
          "bar": [
           {
            "error_x": {
             "color": "#2a3f5f"
            },
            "error_y": {
             "color": "#2a3f5f"
            },
            "marker": {
             "line": {
              "color": "#E5ECF6",
              "width": 0.5
             },
             "pattern": {
              "fillmode": "overlay",
              "size": 10,
              "solidity": 0.2
             }
            },
            "type": "bar"
           }
          ],
          "barpolar": [
           {
            "marker": {
             "line": {
              "color": "#E5ECF6",
              "width": 0.5
             },
             "pattern": {
              "fillmode": "overlay",
              "size": 10,
              "solidity": 0.2
             }
            },
            "type": "barpolar"
           }
          ],
          "carpet": [
           {
            "aaxis": {
             "endlinecolor": "#2a3f5f",
             "gridcolor": "white",
             "linecolor": "white",
             "minorgridcolor": "white",
             "startlinecolor": "#2a3f5f"
            },
            "baxis": {
             "endlinecolor": "#2a3f5f",
             "gridcolor": "white",
             "linecolor": "white",
             "minorgridcolor": "white",
             "startlinecolor": "#2a3f5f"
            },
            "type": "carpet"
           }
          ],
          "choropleth": [
           {
            "colorbar": {
             "outlinewidth": 0,
             "ticks": ""
            },
            "type": "choropleth"
           }
          ],
          "contour": [
           {
            "colorbar": {
             "outlinewidth": 0,
             "ticks": ""
            },
            "colorscale": [
             [
              0,
              "#0d0887"
             ],
             [
              0.1111111111111111,
              "#46039f"
             ],
             [
              0.2222222222222222,
              "#7201a8"
             ],
             [
              0.3333333333333333,
              "#9c179e"
             ],
             [
              0.4444444444444444,
              "#bd3786"
             ],
             [
              0.5555555555555556,
              "#d8576b"
             ],
             [
              0.6666666666666666,
              "#ed7953"
             ],
             [
              0.7777777777777778,
              "#fb9f3a"
             ],
             [
              0.8888888888888888,
              "#fdca26"
             ],
             [
              1,
              "#f0f921"
             ]
            ],
            "type": "contour"
           }
          ],
          "contourcarpet": [
           {
            "colorbar": {
             "outlinewidth": 0,
             "ticks": ""
            },
            "type": "contourcarpet"
           }
          ],
          "heatmap": [
           {
            "colorbar": {
             "outlinewidth": 0,
             "ticks": ""
            },
            "colorscale": [
             [
              0,
              "#0d0887"
             ],
             [
              0.1111111111111111,
              "#46039f"
             ],
             [
              0.2222222222222222,
              "#7201a8"
             ],
             [
              0.3333333333333333,
              "#9c179e"
             ],
             [
              0.4444444444444444,
              "#bd3786"
             ],
             [
              0.5555555555555556,
              "#d8576b"
             ],
             [
              0.6666666666666666,
              "#ed7953"
             ],
             [
              0.7777777777777778,
              "#fb9f3a"
             ],
             [
              0.8888888888888888,
              "#fdca26"
             ],
             [
              1,
              "#f0f921"
             ]
            ],
            "type": "heatmap"
           }
          ],
          "heatmapgl": [
           {
            "colorbar": {
             "outlinewidth": 0,
             "ticks": ""
            },
            "colorscale": [
             [
              0,
              "#0d0887"
             ],
             [
              0.1111111111111111,
              "#46039f"
             ],
             [
              0.2222222222222222,
              "#7201a8"
             ],
             [
              0.3333333333333333,
              "#9c179e"
             ],
             [
              0.4444444444444444,
              "#bd3786"
             ],
             [
              0.5555555555555556,
              "#d8576b"
             ],
             [
              0.6666666666666666,
              "#ed7953"
             ],
             [
              0.7777777777777778,
              "#fb9f3a"
             ],
             [
              0.8888888888888888,
              "#fdca26"
             ],
             [
              1,
              "#f0f921"
             ]
            ],
            "type": "heatmapgl"
           }
          ],
          "histogram": [
           {
            "marker": {
             "pattern": {
              "fillmode": "overlay",
              "size": 10,
              "solidity": 0.2
             }
            },
            "type": "histogram"
           }
          ],
          "histogram2d": [
           {
            "colorbar": {
             "outlinewidth": 0,
             "ticks": ""
            },
            "colorscale": [
             [
              0,
              "#0d0887"
             ],
             [
              0.1111111111111111,
              "#46039f"
             ],
             [
              0.2222222222222222,
              "#7201a8"
             ],
             [
              0.3333333333333333,
              "#9c179e"
             ],
             [
              0.4444444444444444,
              "#bd3786"
             ],
             [
              0.5555555555555556,
              "#d8576b"
             ],
             [
              0.6666666666666666,
              "#ed7953"
             ],
             [
              0.7777777777777778,
              "#fb9f3a"
             ],
             [
              0.8888888888888888,
              "#fdca26"
             ],
             [
              1,
              "#f0f921"
             ]
            ],
            "type": "histogram2d"
           }
          ],
          "histogram2dcontour": [
           {
            "colorbar": {
             "outlinewidth": 0,
             "ticks": ""
            },
            "colorscale": [
             [
              0,
              "#0d0887"
             ],
             [
              0.1111111111111111,
              "#46039f"
             ],
             [
              0.2222222222222222,
              "#7201a8"
             ],
             [
              0.3333333333333333,
              "#9c179e"
             ],
             [
              0.4444444444444444,
              "#bd3786"
             ],
             [
              0.5555555555555556,
              "#d8576b"
             ],
             [
              0.6666666666666666,
              "#ed7953"
             ],
             [
              0.7777777777777778,
              "#fb9f3a"
             ],
             [
              0.8888888888888888,
              "#fdca26"
             ],
             [
              1,
              "#f0f921"
             ]
            ],
            "type": "histogram2dcontour"
           }
          ],
          "mesh3d": [
           {
            "colorbar": {
             "outlinewidth": 0,
             "ticks": ""
            },
            "type": "mesh3d"
           }
          ],
          "parcoords": [
           {
            "line": {
             "colorbar": {
              "outlinewidth": 0,
              "ticks": ""
             }
            },
            "type": "parcoords"
           }
          ],
          "pie": [
           {
            "automargin": true,
            "type": "pie"
           }
          ],
          "scatter": [
           {
            "fillpattern": {
             "fillmode": "overlay",
             "size": 10,
             "solidity": 0.2
            },
            "type": "scatter"
           }
          ],
          "scatter3d": [
           {
            "line": {
             "colorbar": {
              "outlinewidth": 0,
              "ticks": ""
             }
            },
            "marker": {
             "colorbar": {
              "outlinewidth": 0,
              "ticks": ""
             }
            },
            "type": "scatter3d"
           }
          ],
          "scattercarpet": [
           {
            "marker": {
             "colorbar": {
              "outlinewidth": 0,
              "ticks": ""
             }
            },
            "type": "scattercarpet"
           }
          ],
          "scattergeo": [
           {
            "marker": {
             "colorbar": {
              "outlinewidth": 0,
              "ticks": ""
             }
            },
            "type": "scattergeo"
           }
          ],
          "scattergl": [
           {
            "marker": {
             "colorbar": {
              "outlinewidth": 0,
              "ticks": ""
             }
            },
            "type": "scattergl"
           }
          ],
          "scattermapbox": [
           {
            "marker": {
             "colorbar": {
              "outlinewidth": 0,
              "ticks": ""
             }
            },
            "type": "scattermapbox"
           }
          ],
          "scatterpolar": [
           {
            "marker": {
             "colorbar": {
              "outlinewidth": 0,
              "ticks": ""
             }
            },
            "type": "scatterpolar"
           }
          ],
          "scatterpolargl": [
           {
            "marker": {
             "colorbar": {
              "outlinewidth": 0,
              "ticks": ""
             }
            },
            "type": "scatterpolargl"
           }
          ],
          "scatterternary": [
           {
            "marker": {
             "colorbar": {
              "outlinewidth": 0,
              "ticks": ""
             }
            },
            "type": "scatterternary"
           }
          ],
          "surface": [
           {
            "colorbar": {
             "outlinewidth": 0,
             "ticks": ""
            },
            "colorscale": [
             [
              0,
              "#0d0887"
             ],
             [
              0.1111111111111111,
              "#46039f"
             ],
             [
              0.2222222222222222,
              "#7201a8"
             ],
             [
              0.3333333333333333,
              "#9c179e"
             ],
             [
              0.4444444444444444,
              "#bd3786"
             ],
             [
              0.5555555555555556,
              "#d8576b"
             ],
             [
              0.6666666666666666,
              "#ed7953"
             ],
             [
              0.7777777777777778,
              "#fb9f3a"
             ],
             [
              0.8888888888888888,
              "#fdca26"
             ],
             [
              1,
              "#f0f921"
             ]
            ],
            "type": "surface"
           }
          ],
          "table": [
           {
            "cells": {
             "fill": {
              "color": "#EBF0F8"
             },
             "line": {
              "color": "white"
             }
            },
            "header": {
             "fill": {
              "color": "#C8D4E3"
             },
             "line": {
              "color": "white"
             }
            },
            "type": "table"
           }
          ]
         },
         "layout": {
          "annotationdefaults": {
           "arrowcolor": "#2a3f5f",
           "arrowhead": 0,
           "arrowwidth": 1
          },
          "autotypenumbers": "strict",
          "coloraxis": {
           "colorbar": {
            "outlinewidth": 0,
            "ticks": ""
           }
          },
          "colorscale": {
           "diverging": [
            [
             0,
             "#8e0152"
            ],
            [
             0.1,
             "#c51b7d"
            ],
            [
             0.2,
             "#de77ae"
            ],
            [
             0.3,
             "#f1b6da"
            ],
            [
             0.4,
             "#fde0ef"
            ],
            [
             0.5,
             "#f7f7f7"
            ],
            [
             0.6,
             "#e6f5d0"
            ],
            [
             0.7,
             "#b8e186"
            ],
            [
             0.8,
             "#7fbc41"
            ],
            [
             0.9,
             "#4d9221"
            ],
            [
             1,
             "#276419"
            ]
           ],
           "sequential": [
            [
             0,
             "#0d0887"
            ],
            [
             0.1111111111111111,
             "#46039f"
            ],
            [
             0.2222222222222222,
             "#7201a8"
            ],
            [
             0.3333333333333333,
             "#9c179e"
            ],
            [
             0.4444444444444444,
             "#bd3786"
            ],
            [
             0.5555555555555556,
             "#d8576b"
            ],
            [
             0.6666666666666666,
             "#ed7953"
            ],
            [
             0.7777777777777778,
             "#fb9f3a"
            ],
            [
             0.8888888888888888,
             "#fdca26"
            ],
            [
             1,
             "#f0f921"
            ]
           ],
           "sequentialminus": [
            [
             0,
             "#0d0887"
            ],
            [
             0.1111111111111111,
             "#46039f"
            ],
            [
             0.2222222222222222,
             "#7201a8"
            ],
            [
             0.3333333333333333,
             "#9c179e"
            ],
            [
             0.4444444444444444,
             "#bd3786"
            ],
            [
             0.5555555555555556,
             "#d8576b"
            ],
            [
             0.6666666666666666,
             "#ed7953"
            ],
            [
             0.7777777777777778,
             "#fb9f3a"
            ],
            [
             0.8888888888888888,
             "#fdca26"
            ],
            [
             1,
             "#f0f921"
            ]
           ]
          },
          "colorway": [
           "#636efa",
           "#EF553B",
           "#00cc96",
           "#ab63fa",
           "#FFA15A",
           "#19d3f3",
           "#FF6692",
           "#B6E880",
           "#FF97FF",
           "#FECB52"
          ],
          "font": {
           "color": "#2a3f5f"
          },
          "geo": {
           "bgcolor": "white",
           "lakecolor": "white",
           "landcolor": "#E5ECF6",
           "showlakes": true,
           "showland": true,
           "subunitcolor": "white"
          },
          "hoverlabel": {
           "align": "left"
          },
          "hovermode": "closest",
          "mapbox": {
           "style": "light"
          },
          "paper_bgcolor": "white",
          "plot_bgcolor": "#E5ECF6",
          "polar": {
           "angularaxis": {
            "gridcolor": "white",
            "linecolor": "white",
            "ticks": ""
           },
           "bgcolor": "#E5ECF6",
           "radialaxis": {
            "gridcolor": "white",
            "linecolor": "white",
            "ticks": ""
           }
          },
          "scene": {
           "xaxis": {
            "backgroundcolor": "#E5ECF6",
            "gridcolor": "white",
            "gridwidth": 2,
            "linecolor": "white",
            "showbackground": true,
            "ticks": "",
            "zerolinecolor": "white"
           },
           "yaxis": {
            "backgroundcolor": "#E5ECF6",
            "gridcolor": "white",
            "gridwidth": 2,
            "linecolor": "white",
            "showbackground": true,
            "ticks": "",
            "zerolinecolor": "white"
           },
           "zaxis": {
            "backgroundcolor": "#E5ECF6",
            "gridcolor": "white",
            "gridwidth": 2,
            "linecolor": "white",
            "showbackground": true,
            "ticks": "",
            "zerolinecolor": "white"
           }
          },
          "shapedefaults": {
           "line": {
            "color": "#2a3f5f"
           }
          },
          "ternary": {
           "aaxis": {
            "gridcolor": "white",
            "linecolor": "white",
            "ticks": ""
           },
           "baxis": {
            "gridcolor": "white",
            "linecolor": "white",
            "ticks": ""
           },
           "bgcolor": "#E5ECF6",
           "caxis": {
            "gridcolor": "white",
            "linecolor": "white",
            "ticks": ""
           }
          },
          "title": {
           "x": 0.05
          },
          "xaxis": {
           "automargin": true,
           "gridcolor": "white",
           "linecolor": "white",
           "ticks": "",
           "title": {
            "standoff": 15
           },
           "zerolinecolor": "white",
           "zerolinewidth": 2
          },
          "yaxis": {
           "automargin": true,
           "gridcolor": "white",
           "linecolor": "white",
           "ticks": "",
           "title": {
            "standoff": 15
           },
           "zerolinecolor": "white",
           "zerolinewidth": 2
          }
         }
        },
        "title": {
         "text": "pourcentage entre les transactions de Frauds & Non-Frauds"
        },
        "width": 800
       }
      },
      "text/html": [
       "<div>                            <div id=\"87992752-b70d-480e-b099-9a85a72fdf94\" class=\"plotly-graph-div\" style=\"height:400px; width:800px;\"></div>            <script type=\"text/javascript\">                require([\"plotly\"], function(Plotly) {                    window.PLOTLYENV=window.PLOTLYENV || {};                                    if (document.getElementById(\"87992752-b70d-480e-b099-9a85a72fdf94\")) {                    Plotly.newPlot(                        \"87992752-b70d-480e-b099-9a85a72fdf94\",                        [{\"domain\":{\"x\":[0.0,1.0],\"y\":[0.0,1.0]},\"hovertemplate\":\"label=%{label}<br>value=%{value}<extra></extra>\",\"labels\":[\"Not Fraud\",\"Frauds\"],\"legendgroup\":\"\",\"name\":\"\",\"showlegend\":true,\"values\":[284315,492],\"type\":\"pie\"}],                        {\"template\":{\"data\":{\"histogram2dcontour\":[{\"type\":\"histogram2dcontour\",\"colorbar\":{\"outlinewidth\":0,\"ticks\":\"\"},\"colorscale\":[[0.0,\"#0d0887\"],[0.1111111111111111,\"#46039f\"],[0.2222222222222222,\"#7201a8\"],[0.3333333333333333,\"#9c179e\"],[0.4444444444444444,\"#bd3786\"],[0.5555555555555556,\"#d8576b\"],[0.6666666666666666,\"#ed7953\"],[0.7777777777777778,\"#fb9f3a\"],[0.8888888888888888,\"#fdca26\"],[1.0,\"#f0f921\"]]}],\"choropleth\":[{\"type\":\"choropleth\",\"colorbar\":{\"outlinewidth\":0,\"ticks\":\"\"}}],\"histogram2d\":[{\"type\":\"histogram2d\",\"colorbar\":{\"outlinewidth\":0,\"ticks\":\"\"},\"colorscale\":[[0.0,\"#0d0887\"],[0.1111111111111111,\"#46039f\"],[0.2222222222222222,\"#7201a8\"],[0.3333333333333333,\"#9c179e\"],[0.4444444444444444,\"#bd3786\"],[0.5555555555555556,\"#d8576b\"],[0.6666666666666666,\"#ed7953\"],[0.7777777777777778,\"#fb9f3a\"],[0.8888888888888888,\"#fdca26\"],[1.0,\"#f0f921\"]]}],\"heatmap\":[{\"type\":\"heatmap\",\"colorbar\":{\"outlinewidth\":0,\"ticks\":\"\"},\"colorscale\":[[0.0,\"#0d0887\"],[0.1111111111111111,\"#46039f\"],[0.2222222222222222,\"#7201a8\"],[0.3333333333333333,\"#9c179e\"],[0.4444444444444444,\"#bd3786\"],[0.5555555555555556,\"#d8576b\"],[0.6666666666666666,\"#ed7953\"],[0.7777777777777778,\"#fb9f3a\"],[0.8888888888888888,\"#fdca26\"],[1.0,\"#f0f921\"]]}],\"heatmapgl\":[{\"type\":\"heatmapgl\",\"colorbar\":{\"outlinewidth\":0,\"ticks\":\"\"},\"colorscale\":[[0.0,\"#0d0887\"],[0.1111111111111111,\"#46039f\"],[0.2222222222222222,\"#7201a8\"],[0.3333333333333333,\"#9c179e\"],[0.4444444444444444,\"#bd3786\"],[0.5555555555555556,\"#d8576b\"],[0.6666666666666666,\"#ed7953\"],[0.7777777777777778,\"#fb9f3a\"],[0.8888888888888888,\"#fdca26\"],[1.0,\"#f0f921\"]]}],\"contourcarpet\":[{\"type\":\"contourcarpet\",\"colorbar\":{\"outlinewidth\":0,\"ticks\":\"\"}}],\"contour\":[{\"type\":\"contour\",\"colorbar\":{\"outlinewidth\":0,\"ticks\":\"\"},\"colorscale\":[[0.0,\"#0d0887\"],[0.1111111111111111,\"#46039f\"],[0.2222222222222222,\"#7201a8\"],[0.3333333333333333,\"#9c179e\"],[0.4444444444444444,\"#bd3786\"],[0.5555555555555556,\"#d8576b\"],[0.6666666666666666,\"#ed7953\"],[0.7777777777777778,\"#fb9f3a\"],[0.8888888888888888,\"#fdca26\"],[1.0,\"#f0f921\"]]}],\"surface\":[{\"type\":\"surface\",\"colorbar\":{\"outlinewidth\":0,\"ticks\":\"\"},\"colorscale\":[[0.0,\"#0d0887\"],[0.1111111111111111,\"#46039f\"],[0.2222222222222222,\"#7201a8\"],[0.3333333333333333,\"#9c179e\"],[0.4444444444444444,\"#bd3786\"],[0.5555555555555556,\"#d8576b\"],[0.6666666666666666,\"#ed7953\"],[0.7777777777777778,\"#fb9f3a\"],[0.8888888888888888,\"#fdca26\"],[1.0,\"#f0f921\"]]}],\"mesh3d\":[{\"type\":\"mesh3d\",\"colorbar\":{\"outlinewidth\":0,\"ticks\":\"\"}}],\"scatter\":[{\"fillpattern\":{\"fillmode\":\"overlay\",\"size\":10,\"solidity\":0.2},\"type\":\"scatter\"}],\"parcoords\":[{\"type\":\"parcoords\",\"line\":{\"colorbar\":{\"outlinewidth\":0,\"ticks\":\"\"}}}],\"scatterpolargl\":[{\"type\":\"scatterpolargl\",\"marker\":{\"colorbar\":{\"outlinewidth\":0,\"ticks\":\"\"}}}],\"bar\":[{\"error_x\":{\"color\":\"#2a3f5f\"},\"error_y\":{\"color\":\"#2a3f5f\"},\"marker\":{\"line\":{\"color\":\"#E5ECF6\",\"width\":0.5},\"pattern\":{\"fillmode\":\"overlay\",\"size\":10,\"solidity\":0.2}},\"type\":\"bar\"}],\"scattergeo\":[{\"type\":\"scattergeo\",\"marker\":{\"colorbar\":{\"outlinewidth\":0,\"ticks\":\"\"}}}],\"scatterpolar\":[{\"type\":\"scatterpolar\",\"marker\":{\"colorbar\":{\"outlinewidth\":0,\"ticks\":\"\"}}}],\"histogram\":[{\"marker\":{\"pattern\":{\"fillmode\":\"overlay\",\"size\":10,\"solidity\":0.2}},\"type\":\"histogram\"}],\"scattergl\":[{\"type\":\"scattergl\",\"marker\":{\"colorbar\":{\"outlinewidth\":0,\"ticks\":\"\"}}}],\"scatter3d\":[{\"type\":\"scatter3d\",\"line\":{\"colorbar\":{\"outlinewidth\":0,\"ticks\":\"\"}},\"marker\":{\"colorbar\":{\"outlinewidth\":0,\"ticks\":\"\"}}}],\"scattermapbox\":[{\"type\":\"scattermapbox\",\"marker\":{\"colorbar\":{\"outlinewidth\":0,\"ticks\":\"\"}}}],\"scatterternary\":[{\"type\":\"scatterternary\",\"marker\":{\"colorbar\":{\"outlinewidth\":0,\"ticks\":\"\"}}}],\"scattercarpet\":[{\"type\":\"scattercarpet\",\"marker\":{\"colorbar\":{\"outlinewidth\":0,\"ticks\":\"\"}}}],\"carpet\":[{\"aaxis\":{\"endlinecolor\":\"#2a3f5f\",\"gridcolor\":\"white\",\"linecolor\":\"white\",\"minorgridcolor\":\"white\",\"startlinecolor\":\"#2a3f5f\"},\"baxis\":{\"endlinecolor\":\"#2a3f5f\",\"gridcolor\":\"white\",\"linecolor\":\"white\",\"minorgridcolor\":\"white\",\"startlinecolor\":\"#2a3f5f\"},\"type\":\"carpet\"}],\"table\":[{\"cells\":{\"fill\":{\"color\":\"#EBF0F8\"},\"line\":{\"color\":\"white\"}},\"header\":{\"fill\":{\"color\":\"#C8D4E3\"},\"line\":{\"color\":\"white\"}},\"type\":\"table\"}],\"barpolar\":[{\"marker\":{\"line\":{\"color\":\"#E5ECF6\",\"width\":0.5},\"pattern\":{\"fillmode\":\"overlay\",\"size\":10,\"solidity\":0.2}},\"type\":\"barpolar\"}],\"pie\":[{\"automargin\":true,\"type\":\"pie\"}]},\"layout\":{\"autotypenumbers\":\"strict\",\"colorway\":[\"#636efa\",\"#EF553B\",\"#00cc96\",\"#ab63fa\",\"#FFA15A\",\"#19d3f3\",\"#FF6692\",\"#B6E880\",\"#FF97FF\",\"#FECB52\"],\"font\":{\"color\":\"#2a3f5f\"},\"hovermode\":\"closest\",\"hoverlabel\":{\"align\":\"left\"},\"paper_bgcolor\":\"white\",\"plot_bgcolor\":\"#E5ECF6\",\"polar\":{\"bgcolor\":\"#E5ECF6\",\"angularaxis\":{\"gridcolor\":\"white\",\"linecolor\":\"white\",\"ticks\":\"\"},\"radialaxis\":{\"gridcolor\":\"white\",\"linecolor\":\"white\",\"ticks\":\"\"}},\"ternary\":{\"bgcolor\":\"#E5ECF6\",\"aaxis\":{\"gridcolor\":\"white\",\"linecolor\":\"white\",\"ticks\":\"\"},\"baxis\":{\"gridcolor\":\"white\",\"linecolor\":\"white\",\"ticks\":\"\"},\"caxis\":{\"gridcolor\":\"white\",\"linecolor\":\"white\",\"ticks\":\"\"}},\"coloraxis\":{\"colorbar\":{\"outlinewidth\":0,\"ticks\":\"\"}},\"colorscale\":{\"sequential\":[[0.0,\"#0d0887\"],[0.1111111111111111,\"#46039f\"],[0.2222222222222222,\"#7201a8\"],[0.3333333333333333,\"#9c179e\"],[0.4444444444444444,\"#bd3786\"],[0.5555555555555556,\"#d8576b\"],[0.6666666666666666,\"#ed7953\"],[0.7777777777777778,\"#fb9f3a\"],[0.8888888888888888,\"#fdca26\"],[1.0,\"#f0f921\"]],\"sequentialminus\":[[0.0,\"#0d0887\"],[0.1111111111111111,\"#46039f\"],[0.2222222222222222,\"#7201a8\"],[0.3333333333333333,\"#9c179e\"],[0.4444444444444444,\"#bd3786\"],[0.5555555555555556,\"#d8576b\"],[0.6666666666666666,\"#ed7953\"],[0.7777777777777778,\"#fb9f3a\"],[0.8888888888888888,\"#fdca26\"],[1.0,\"#f0f921\"]],\"diverging\":[[0,\"#8e0152\"],[0.1,\"#c51b7d\"],[0.2,\"#de77ae\"],[0.3,\"#f1b6da\"],[0.4,\"#fde0ef\"],[0.5,\"#f7f7f7\"],[0.6,\"#e6f5d0\"],[0.7,\"#b8e186\"],[0.8,\"#7fbc41\"],[0.9,\"#4d9221\"],[1,\"#276419\"]]},\"xaxis\":{\"gridcolor\":\"white\",\"linecolor\":\"white\",\"ticks\":\"\",\"title\":{\"standoff\":15},\"zerolinecolor\":\"white\",\"automargin\":true,\"zerolinewidth\":2},\"yaxis\":{\"gridcolor\":\"white\",\"linecolor\":\"white\",\"ticks\":\"\",\"title\":{\"standoff\":15},\"zerolinecolor\":\"white\",\"automargin\":true,\"zerolinewidth\":2},\"scene\":{\"xaxis\":{\"backgroundcolor\":\"#E5ECF6\",\"gridcolor\":\"white\",\"linecolor\":\"white\",\"showbackground\":true,\"ticks\":\"\",\"zerolinecolor\":\"white\",\"gridwidth\":2},\"yaxis\":{\"backgroundcolor\":\"#E5ECF6\",\"gridcolor\":\"white\",\"linecolor\":\"white\",\"showbackground\":true,\"ticks\":\"\",\"zerolinecolor\":\"white\",\"gridwidth\":2},\"zaxis\":{\"backgroundcolor\":\"#E5ECF6\",\"gridcolor\":\"white\",\"linecolor\":\"white\",\"showbackground\":true,\"ticks\":\"\",\"zerolinecolor\":\"white\",\"gridwidth\":2}},\"shapedefaults\":{\"line\":{\"color\":\"#2a3f5f\"}},\"annotationdefaults\":{\"arrowcolor\":\"#2a3f5f\",\"arrowhead\":0,\"arrowwidth\":1},\"geo\":{\"bgcolor\":\"white\",\"landcolor\":\"#E5ECF6\",\"subunitcolor\":\"white\",\"showland\":true,\"showlakes\":true,\"lakecolor\":\"white\"},\"title\":{\"x\":0.05},\"mapbox\":{\"style\":\"light\"}}},\"legend\":{\"tracegroupgap\":0},\"title\":{\"text\":\"pourcentage entre les transactions de Frauds & Non-Frauds\"},\"piecolorway\":[\"skyblue\",\"black\"],\"height\":400,\"width\":800},                        {\"responsive\": true}                    ).then(function(){\n",
       "                            \n",
       "var gd = document.getElementById('87992752-b70d-480e-b099-9a85a72fdf94');\n",
       "var x = new MutationObserver(function (mutations, observer) {{\n",
       "        var display = window.getComputedStyle(gd).display;\n",
       "        if (!display || display === 'none') {{\n",
       "            console.log([gd, 'removed!']);\n",
       "            Plotly.purge(gd);\n",
       "            observer.disconnect();\n",
       "        }}\n",
       "}});\n",
       "\n",
       "// Listen for the removal of the full notebook cells\n",
       "var notebookContainer = gd.closest('#notebook-container');\n",
       "if (notebookContainer) {{\n",
       "    x.observe(notebookContainer, {childList: true});\n",
       "}}\n",
       "\n",
       "// Listen for the clearing of the current output cell\n",
       "var outputEl = gd.closest('.output');\n",
       "if (outputEl) {{\n",
       "    x.observe(outputEl, {childList: true});\n",
       "}}\n",
       "\n",
       "                        })                };                });            </script>        </div>"
      ]
     },
     "metadata": {},
     "output_type": "display_data"
    }
   ],
   "source": [
    "lis=[\"Not Fraud\",\"Frauds\"]\n",
    "fraud_or_not = data[\"Class\"].value_counts().tolist()\n",
    "values = [fraud_or_not[0], fraud_or_not[1]]\n",
    "fig = px.pie(values=data['Class'].value_counts(), names=lis , width=800, height=400, color_discrete_sequence=[\"skyblue\",\"black\"]\n",
    "             ,title=\"pourcentage entre les transactions de Frauds & Non-Frauds\")\n",
    "fig.show()"
   ]
  },
  {
   "cell_type": "markdown",
   "id": "e469af4e",
   "metadata": {},
   "source": [
    "<span style=\"color:blue;font-size: 15px \" >les données sont inéquilibrés , il faut les traiter</span>.\n"
   ]
  },
  {
   "cell_type": "code",
   "execution_count": 19,
   "id": "3e0d804d",
   "metadata": {},
   "outputs": [
    {
     "data": {
      "text/plain": [
       "<AxesSubplot:>"
      ]
     },
     "execution_count": 19,
     "metadata": {},
     "output_type": "execute_result"
    },
    {
     "data": {
      "image/png": "[encoded data removed]",
      "text/plain": [
       "<Figure size 792x648 with 2 Axes>"
      ]
     },
     "metadata": {
      "needs_background": "light"
     },
     "output_type": "display_data"
    }
   ],
   "source": [
    "corr=data.corr()\n",
    "mask = np.zeros_like(corr, dtype=np.bool)\n",
    "mask[np.triu_indices_from(mask)] = True #to generate a down triangle mask \n",
    "# Set up the matplotlib figure\n",
    "f, ax = plt.subplots(figsize=(11, 9))\n",
    "# Generate a custom diverging colormap\n",
    "cmap = sns.diverging_palette(220, 10, as_cmap=True)\n",
    "# Draw the heatmap with the mask and correct aspect ratio\n",
    "sns.heatmap(corr, mask=mask, cmap=cmap, vmax=.5, center=0, linewidths=.5, cbar_kws={\"shrink\": .5})"
   ]
  },
  {
   "cell_type": "code",
   "execution_count": 20,
   "id": "d44496c8",
   "metadata": {},
   "outputs": [
    {
     "data": {
      "text/plain": [
       "Class     1.000000\n",
       "V11       0.154876\n",
       "V4        0.133447\n",
       "V2        0.091289\n",
       "V21       0.040413\n",
       "V19       0.034783\n",
       "V20       0.020090\n",
       "V8        0.019875\n",
       "V27       0.017580\n",
       "V28       0.009536\n",
       "Amount    0.005632\n",
       "V26       0.004455\n",
       "V25       0.003308\n",
       "V22       0.000805\n",
       "V23      -0.002685\n",
       "V15      -0.004223\n",
       "V13      -0.004570\n",
       "V24      -0.007221\n",
       "Time     -0.012323\n",
       "V6       -0.043643\n",
       "V5       -0.094974\n",
       "V9       -0.097733\n",
       "V1       -0.101347\n",
       "V18      -0.111485\n",
       "V7       -0.187257\n",
       "V3       -0.192961\n",
       "V16      -0.196539\n",
       "V10      -0.216883\n",
       "V12      -0.260593\n",
       "V14      -0.302544\n",
       "V17      -0.326481\n",
       "Name: Class, dtype: float64"
      ]
     },
     "execution_count": 20,
     "metadata": {},
     "output_type": "execute_result"
    }
   ],
   "source": [
    "corr[\"Class\"].sort_values(ascending=False)"
   ]
  },
  {
   "cell_type": "markdown",
   "id": "ef7ad381",
   "metadata": {},
   "source": [
    "<span style=\"color:blue;font-size: 15px \" >Les 3 principales variables indépendantes {V17, V14, V12} qui devraient contenir des informations importantes sur le caractère frauduleux ou non d'une transaction par carte de crédit.</span>.\n"
   ]
  },
  {
   "cell_type": "markdown",
   "id": "e66b6f0f",
   "metadata": {},
   "source": [
    "<span style=\"color:green;font-size: 15px \" >Affichage la densité de chaque instance de classe(Normal, Fraud) par rapport aux attributs V17,V14,V12 </span>.\n"
   ]
  },
  {
   "cell_type": "code",
   "execution_count": 21,
   "id": "bccee323",
   "metadata": {},
   "outputs": [
    {
     "data": {
      "image/png": "[encoded data removed]",
      "text/plain": [
       "<Figure size 432x288 with 1 Axes>"
      ]
     },
     "metadata": {
      "needs_background": "light"
     },
     "output_type": "display_data"
    }
   ],
   "source": [
    "plt.figure(figsize=(6,4))\n",
    "sns.kdeplot(data=data[data['Class'] == 0]['V17'], label=\"Normal\", shade=True)\n",
    "sns.kdeplot(data=data[data['Class'] == 1]['V17'], label=\"Fraud\", shade=True)\n",
    "plt.legend()\n",
    "plt.show()"
   ]
  },
  {
   "cell_type": "code",
   "execution_count": 22,
   "id": "7775b552",
   "metadata": {},
   "outputs": [
    {
     "data": {
      "image/png": "[encoded data removed]",
      "text/plain": [
       "<Figure size 432x288 with 1 Axes>"
      ]
     },
     "metadata": {
      "needs_background": "light"
     },
     "output_type": "display_data"
    }
   ],
   "source": [
    "plt.figure(figsize=(6,4))\n",
    "sns.kdeplot(data=data[data['Class'] == 0]['V14'], label=\"Normal\", shade=True)\n",
    "sns.kdeplot(data=data[data['Class'] == 1]['V14'], label=\"Fraud\", shade=True)\n",
    "plt.legend()\n",
    "plt.show()"
   ]
  },
  {
   "cell_type": "code",
   "execution_count": 23,
   "id": "e07a8402",
   "metadata": {},
   "outputs": [
    {
     "data": {
      "image/png": "[encoded data removed]",
      "text/plain": [
       "<Figure size 432x288 with 1 Axes>"
      ]
     },
     "metadata": {
      "needs_background": "light"
     },
     "output_type": "display_data"
    }
   ],
   "source": [
    "plt.figure(figsize=(6,4))\n",
    "sns.kdeplot(data=data[data['Class'] == 0]['V12'], label=\"Normal\", shade=True)\n",
    "sns.kdeplot(data=data[data['Class'] == 1]['V12'], label=\"Fraud\", shade=True)\n",
    "plt.legend()\n",
    "plt.show()"
   ]
  },
  {
   "cell_type": "markdown",
   "id": "f0737250",
   "metadata": {},
   "source": [
    "<span style=\"color:blue;font-size: 15px \" >Comme la plupart des caractéristiques sont dans PCA, à l exception du temps et du montant, nous devrons examiner de plus près ces deux attributs.</span>.\n"
   ]
  },
  {
   "cell_type": "markdown",
   "id": "737343e7",
   "metadata": {},
   "source": [
    "<span style=\"color:green;font-size: 15px \" >Projection de la densité de Amount et Time .</span>."
   ]
  },
  {
   "cell_type": "code",
   "execution_count": 26,
   "id": "f0df5a20",
   "metadata": {},
   "outputs": [
    {
     "data": {
      "image/png": "[encoded data removed]",
      "text/plain": [
       "<Figure size 1296x288 with 2 Axes>"
      ]
     },
     "metadata": {
      "needs_background": "light"
     },
     "output_type": "display_data"
    }
   ],
   "source": [
    "fig, ax = plt.subplots(1, 2, figsize=(18,4))\n",
    "\n",
    "Val_Amount = data['Amount'].values\n",
    "Val_Time = data['Time'].values\n",
    "\n",
    "sns.distplot(Val_Amount, ax=ax[0], color='r')\n",
    "ax[0].set_title('Distribution of Transaction Amount', fontsize=14)\n",
    "ax[0].set_xlim([min(Val_Amount), max(Val_Amount)])\n",
    "\n",
    "sns.distplot(Val_Time, ax=ax[1], color='b')\n",
    "ax[1].set_title('Distribution of Transaction Time', fontsize=14)\n",
    "ax[1].set_xlim([min(Val_Time), max(Val_Time)])\n",
    "\n",
    "plt.show()"
   ]
  },
  {
   "cell_type": "markdown",
   "id": "51abf6ac",
   "metadata": {},
   "source": [
    "<span style=\"color:blue;font-size: 15px \" >Comme les attributs \"Amount\" et \"Time\" ne sont pas dans la même échelle que les autres attributs, nous devons appliquer le Scaler sur ces attributs et supprimer les attributs originales.</span>."
   ]
  },
  {
   "cell_type": "code",
   "execution_count": 29,
   "id": "c9dcaf14",
   "metadata": {},
   "outputs": [],
   "source": [
    "fraud=data[data['Class']==1]\n",
    "normal=data[data['Class']==0]"
   ]
  },
  {
   "cell_type": "code",
   "execution_count": 30,
   "id": "a676065e",
   "metadata": {},
   "outputs": [
    {
     "data": {
      "image/png": "[encoded data removed]",
      "text/plain": [
       "<Figure size 1008x432 with 2 Axes>"
      ]
     },
     "metadata": {
      "needs_background": "light"
     },
     "output_type": "display_data"
    }
   ],
   "source": [
    "from pylab import rcParams\n",
    "\n",
    "rcParams['figure.figsize'] = 14, 6\n",
    "f,(ax1, ax2) = plt.subplots(2, 1, sharex=True)\n",
    "f.suptitle('Time of transaction vs Amount by class')\n",
    "ax1.scatter(fraud.Time, fraud.Amount,color = 'deeppink')\n",
    "ax1.set_title('Fraud')\n",
    "ax2.scatter(normal.Time, normal.Amount,color = 'pink')\n",
    "ax2.set_title('Normal')\n",
    "plt.xlabel('Time (in Seconds)')\n",
    "plt.ylabel('Amount')\n",
    "plt.show()"
   ]
  },
  {
   "cell_type": "markdown",
   "id": "b3c4ffab",
   "metadata": {},
   "source": [
    "<span style=\"color:blue;font-size: 15px \" >Comme nous pouvons le constater, la distribution des transactions authentiques(normale) est plus importante que celle des transactions frauduleuses, ce qui est logique puisque l'ensemble de données de sortie contient plus de données authentiques 99,8</span>."
   ]
  },
  {
   "cell_type": "code",
   "execution_count": 34,
   "id": "1df6299d",
   "metadata": {},
   "outputs": [
    {
     "data": {
      "text/plain": [
       "Text(0.5, 1.0, 'Temps de transaction pour les utilisateurs normales ')"
      ]
     },
     "execution_count": 34,
     "metadata": {},
     "output_type": "execute_result"
    },
    {
     "data": {
      "text/plain": [
       "<Figure size 576x288 with 0 Axes>"
      ]
     },
     "metadata": {},
     "output_type": "display_data"
    },
    {
     "data": {
      "image/png": "[encoded data removed]",
      "text/plain": [
       "<Figure size 960x320 with 1 Axes>"
      ]
     },
     "metadata": {
      "needs_background": "light"
     },
     "output_type": "display_data"
    }
   ],
   "source": [
    "plt.figure(figsize=(8,4))\n",
    "Nofraud_data = data [data['Class']==0]\n",
    "plt.figure(figsize=(12,4), dpi=80)\n",
    "sns.distplot(Nofraud_data [ 'Time']/60/60, bins=48)\n",
    "plt.xticks(np.arange(0,54,6))\n",
    "plt.xlim([0,48])\n",
    "plt.xlabel('Temps après première transaction (hr)',fontsize=13)\n",
    "plt.ylabel('Nombre de transactions',fontsize=13)\n",
    "plt.title('Temps de transaction pour les utilisateurs normales ',fontsize=15)"
   ]
  },
  {
   "cell_type": "code",
   "execution_count": 36,
   "id": "d6645384",
   "metadata": {},
   "outputs": [
    {
     "data": {
      "text/plain": [
       "Text(0.5, 1.0, 'Temps de transaction pour les utilisateurs fraduleux ')"
      ]
     },
     "execution_count": 36,
     "metadata": {},
     "output_type": "execute_result"
    },
    {
     "data": {
      "text/plain": [
       "<Figure size 576x288 with 0 Axes>"
      ]
     },
     "metadata": {},
     "output_type": "display_data"
    },
    {
     "data": {
      "image/png": "[encoded data removed]",
      "text/plain": [
       "<Figure size 960x320 with 1 Axes>"
      ]
     },
     "metadata": {
      "needs_background": "light"
     },
     "output_type": "display_data"
    }
   ],
   "source": [
    "plt.figure(figsize=(8,4))\n",
    "Fraud_data = data [data['Class']==1]\n",
    "plt.figure(figsize=(12,4), dpi=80)\n",
    "sns.distplot(Fraud_data[ 'Time']/60/60, bins=48)\n",
    "plt.xticks(np.arange(0,54,6))\n",
    "plt.xlim([0,48])\n",
    "plt.xlabel('Temps après première transaction (hr)',fontsize=13)\n",
    "plt.ylabel('Nombre de transactions',fontsize=13)\n",
    "plt.title('Temps de transaction pour les utilisateurs fraduleux ',fontsize=15)"
   ]
  },
  {
   "cell_type": "markdown",
   "id": "7068a883",
   "metadata": {},
   "source": [
    "<span style=\"color:blue;font-size: 15px \" >Comme vous constatez, le nombre de transactions pour les utilisateurs authentiques(normale) diminue en fin de soirée et tôt le matin. C'est logique puisque la plupart des gens dorment pendant cette période.</br> \n",
    "    Au contraire, pour les transactions frauduleuses, le nombre de transactions connaît des pics importants pendant les heures tardives, et pendant la journée, le nombre de transactions est nettement inférieur.</span>."
   ]
  },
  {
   "cell_type": "code",
   "execution_count": 37,
   "id": "4a536ebb",
   "metadata": {},
   "outputs": [
    {
     "data": {
      "text/plain": [
       "<AxesSubplot:xlabel='Amount'>"
      ]
     },
     "execution_count": 37,
     "metadata": {},
     "output_type": "execute_result"
    },
    {
     "data": {
      "image/png": "[encoded data removed]",
      "text/plain": [
       "<Figure size 1152x432 with 2 Axes>"
      ]
     },
     "metadata": {
      "needs_background": "light"
     },
     "output_type": "display_data"
    }
   ],
   "source": [
    "fig, (ax1, ax2) = plt.subplots(2, 1, figsize=(16,6))\n",
    "sns.distplot(data.Amount, ax=ax1) \n",
    "sns.boxplot(data.Amount, ax=ax2)"
   ]
  },
  {
   "cell_type": "markdown",
   "id": "8e1598f0",
   "metadata": {},
   "source": [
    "<span style=\"color:blue;font-size: 15px \" >Après avoir effectué l'analyse IQR, nous remarquons que nous pourrions perdre certaines données d'utilisateurs frauduleux. Mais comme les données sont très peu nombreuses pour ces utilisateurs, il n'est pas recommandé de les supprimer. Au lieu de cela, nous éliminons tous les points de données qui sont au-delà de 8500 points afin de supprimer les valeurs aberrantes extrêmes et, en même temps, de ne pas perdre de données sur les utilisateurs frauduleux</span>."
   ]
  },
  {
   "cell_type": "markdown",
   "id": "367060ad",
   "metadata": {},
   "source": [
    "<span style=\"color:green;font-size: 15px \" > affichage de nombre de ligne par classe ayant Amount supérieure à la limite supérieure</span>."
   ]
  },
  {
   "cell_type": "code",
   "execution_count": 39,
   "id": "0b592843",
   "metadata": {},
   "outputs": [
    {
     "name": "stdout",
     "output_type": "stream",
     "text": [
      "184.5125\n",
      "0    31813\n",
      "1       91\n",
      "Name: Class, dtype: int64\n"
     ]
    }
   ],
   "source": [
    "from scipy.stats import iqr\n",
    "\n",
    "upper_limit = data.Amount.quantile(0.75) + (1.5*iqr(data.Amount))\n",
    "print(upper_limit)\n",
    "print(data[data.Amount>upper_limit]['Class'].value_counts())"
   ]
  },
  {
   "cell_type": "code",
   "execution_count": 41,
   "id": "72c91b8a",
   "metadata": {},
   "outputs": [
    {
     "name": "stdout",
     "output_type": "stream",
     "text": [
      "0    284305\n",
      "1       492\n",
      "Name: Class, dtype: int64\n",
      "\n",
      "Pourcentage d activité fraduleuse: 0.17%\n"
     ]
    }
   ],
   "source": [
    "data = data [data.Amount<=8500]\n",
    "\n",
    "print(data['Class'].value_counts())\n",
    "print('\\nPourcentage d activité fraduleuse: {:.2%}'.format((data [data['Class'] == 1].shape[0] / data.shape[0])))"
   ]
  },
  {
   "cell_type": "markdown",
   "id": "6e5d3ccc",
   "metadata": {},
   "source": [
    "<span style=\"color:red;font-size: 15px \" >Puisque l attribut \"Amount\" n'est pas dans la même échelle que les autres attributs, nous devons appliquer le <b>Scaler</b> sur cet attribut et supprimer l attribut original.</span>."
   ]
  },
  {
   "cell_type": "code",
   "execution_count": 42,
   "id": "07b384c0",
   "metadata": {},
   "outputs": [],
   "source": [
    "from sklearn.preprocessing import StandardScaler\n"
   ]
  },
  {
   "cell_type": "code",
   "execution_count": 43,
   "id": "213262a2",
   "metadata": {},
   "outputs": [],
   "source": [
    "std_scaler = StandardScaler()\n",
    "data['Scaled_Amount']=std_scaler.fit_transform(data['Amount'].values.reshape(-1,1))"
   ]
  },
  {
   "cell_type": "code",
   "execution_count": 44,
   "id": "88c6367d",
   "metadata": {},
   "outputs": [],
   "source": [
    "data.drop(['Amount','Time'],axis=1,inplace=True)\n",
    "# drop the old feature in addition to the \"time\" feature "
   ]
  },
  {
   "cell_type": "code",
   "execution_count": 45,
   "id": "7454f9f1",
   "metadata": {},
   "outputs": [
    {
     "data": {
      "text/html": [
       "<div>\n",
       "<style scoped>\n",
       "    .dataframe tbody tr th:only-of-type {\n",
       "        vertical-align: middle;\n",
       "    }\n",
       "\n",
       "    .dataframe tbody tr th {\n",
       "        vertical-align: top;\n",
       "    }\n",
       "\n",
       "    .dataframe thead th {\n",
       "        text-align: right;\n",
       "    }\n",
       "</style>\n",
       "<table border=\"1\" class=\"dataframe\">\n",
       "  <thead>\n",
       "    <tr style=\"text-align: right;\">\n",
       "      <th></th>\n",
       "      <th>V1</th>\n",
       "      <th>V2</th>\n",
       "      <th>V3</th>\n",
       "      <th>V4</th>\n",
       "      <th>V5</th>\n",
       "      <th>V6</th>\n",
       "      <th>V7</th>\n",
       "      <th>V8</th>\n",
       "      <th>V9</th>\n",
       "      <th>V10</th>\n",
       "      <th>...</th>\n",
       "      <th>V21</th>\n",
       "      <th>V22</th>\n",
       "      <th>V23</th>\n",
       "      <th>V24</th>\n",
       "      <th>V25</th>\n",
       "      <th>V26</th>\n",
       "      <th>V27</th>\n",
       "      <th>V28</th>\n",
       "      <th>Class</th>\n",
       "      <th>Scaled_Amount</th>\n",
       "    </tr>\n",
       "  </thead>\n",
       "  <tbody>\n",
       "    <tr>\n",
       "      <th>0</th>\n",
       "      <td>-1.359807</td>\n",
       "      <td>-0.072781</td>\n",
       "      <td>2.536347</td>\n",
       "      <td>1.378155</td>\n",
       "      <td>-0.338321</td>\n",
       "      <td>0.462388</td>\n",
       "      <td>0.239599</td>\n",
       "      <td>0.098698</td>\n",
       "      <td>0.363787</td>\n",
       "      <td>0.090794</td>\n",
       "      <td>...</td>\n",
       "      <td>-0.018307</td>\n",
       "      <td>0.277838</td>\n",
       "      <td>-0.110474</td>\n",
       "      <td>0.066928</td>\n",
       "      <td>0.128539</td>\n",
       "      <td>-0.189115</td>\n",
       "      <td>0.133558</td>\n",
       "      <td>-0.021053</td>\n",
       "      <td>0</td>\n",
       "      <td>0.263588</td>\n",
       "    </tr>\n",
       "    <tr>\n",
       "      <th>1</th>\n",
       "      <td>1.191857</td>\n",
       "      <td>0.266151</td>\n",
       "      <td>0.166480</td>\n",
       "      <td>0.448154</td>\n",
       "      <td>0.060018</td>\n",
       "      <td>-0.082361</td>\n",
       "      <td>-0.078803</td>\n",
       "      <td>0.085102</td>\n",
       "      <td>-0.255425</td>\n",
       "      <td>-0.166974</td>\n",
       "      <td>...</td>\n",
       "      <td>-0.225775</td>\n",
       "      <td>-0.638672</td>\n",
       "      <td>0.101288</td>\n",
       "      <td>-0.339846</td>\n",
       "      <td>0.167170</td>\n",
       "      <td>0.125895</td>\n",
       "      <td>-0.008983</td>\n",
       "      <td>0.014724</td>\n",
       "      <td>0</td>\n",
       "      <td>-0.363560</td>\n",
       "    </tr>\n",
       "    <tr>\n",
       "      <th>2</th>\n",
       "      <td>-1.358354</td>\n",
       "      <td>-1.340163</td>\n",
       "      <td>1.773209</td>\n",
       "      <td>0.379780</td>\n",
       "      <td>-0.503198</td>\n",
       "      <td>1.800499</td>\n",
       "      <td>0.791461</td>\n",
       "      <td>0.247676</td>\n",
       "      <td>-1.514654</td>\n",
       "      <td>0.207643</td>\n",
       "      <td>...</td>\n",
       "      <td>0.247998</td>\n",
       "      <td>0.771679</td>\n",
       "      <td>0.909412</td>\n",
       "      <td>-0.689281</td>\n",
       "      <td>-0.327642</td>\n",
       "      <td>-0.139097</td>\n",
       "      <td>-0.055353</td>\n",
       "      <td>-0.059752</td>\n",
       "      <td>0</td>\n",
       "      <td>1.241209</td>\n",
       "    </tr>\n",
       "    <tr>\n",
       "      <th>3</th>\n",
       "      <td>-0.966272</td>\n",
       "      <td>-0.185226</td>\n",
       "      <td>1.792993</td>\n",
       "      <td>-0.863291</td>\n",
       "      <td>-0.010309</td>\n",
       "      <td>1.247203</td>\n",
       "      <td>0.237609</td>\n",
       "      <td>0.377436</td>\n",
       "      <td>-1.387024</td>\n",
       "      <td>-0.054952</td>\n",
       "      <td>...</td>\n",
       "      <td>-0.108300</td>\n",
       "      <td>0.005274</td>\n",
       "      <td>-0.190321</td>\n",
       "      <td>-1.175575</td>\n",
       "      <td>0.647376</td>\n",
       "      <td>-0.221929</td>\n",
       "      <td>0.062723</td>\n",
       "      <td>0.061458</td>\n",
       "      <td>0</td>\n",
       "      <td>0.152098</td>\n",
       "    </tr>\n",
       "    <tr>\n",
       "      <th>4</th>\n",
       "      <td>-1.158233</td>\n",
       "      <td>0.877737</td>\n",
       "      <td>1.548718</td>\n",
       "      <td>0.403034</td>\n",
       "      <td>-0.407193</td>\n",
       "      <td>0.095921</td>\n",
       "      <td>0.592941</td>\n",
       "      <td>-0.270533</td>\n",
       "      <td>0.817739</td>\n",
       "      <td>0.753074</td>\n",
       "      <td>...</td>\n",
       "      <td>-0.009431</td>\n",
       "      <td>0.798278</td>\n",
       "      <td>-0.137458</td>\n",
       "      <td>0.141267</td>\n",
       "      <td>-0.206010</td>\n",
       "      <td>0.502292</td>\n",
       "      <td>0.219422</td>\n",
       "      <td>0.215153</td>\n",
       "      <td>0</td>\n",
       "      <td>-0.076301</td>\n",
       "    </tr>\n",
       "  </tbody>\n",
       "</table>\n",
       "<p>5 rows × 30 columns</p>\n",
       "</div>"
      ],
      "text/plain": [
       "         V1        V2        V3        V4        V5        V6        V7  \\\n",
       "0 -1.359807 -0.072781  2.536347  1.378155 -0.338321  0.462388  0.239599   \n",
       "1  1.191857  0.266151  0.166480  0.448154  0.060018 -0.082361 -0.078803   \n",
       "2 -1.358354 -1.340163  1.773209  0.379780 -0.503198  1.800499  0.791461   \n",
       "3 -0.966272 -0.185226  1.792993 -0.863291 -0.010309  1.247203  0.237609   \n",
       "4 -1.158233  0.877737  1.548718  0.403034 -0.407193  0.095921  0.592941   \n",
       "\n",
       "         V8        V9       V10  ...       V21       V22       V23       V24  \\\n",
       "0  0.098698  0.363787  0.090794  ... -0.018307  0.277838 -0.110474  0.066928   \n",
       "1  0.085102 -0.255425 -0.166974  ... -0.225775 -0.638672  0.101288 -0.339846   \n",
       "2  0.247676 -1.514654  0.207643  ...  0.247998  0.771679  0.909412 -0.689281   \n",
       "3  0.377436 -1.387024 -0.054952  ... -0.108300  0.005274 -0.190321 -1.175575   \n",
       "4 -0.270533  0.817739  0.753074  ... -0.009431  0.798278 -0.137458  0.141267   \n",
       "\n",
       "        V25       V26       V27       V28  Class  Scaled_Amount  \n",
       "0  0.128539 -0.189115  0.133558 -0.021053      0       0.263588  \n",
       "1  0.167170  0.125895 -0.008983  0.014724      0      -0.363560  \n",
       "2 -0.327642 -0.139097 -0.055353 -0.059752      0       1.241209  \n",
       "3  0.647376 -0.221929  0.062723  0.061458      0       0.152098  \n",
       "4 -0.206010  0.502292  0.219422  0.215153      0      -0.076301  \n",
       "\n",
       "[5 rows x 30 columns]"
      ]
     },
     "execution_count": 45,
     "metadata": {},
     "output_type": "execute_result"
    }
   ],
   "source": [
    "data.head()\n"
   ]
  },
  {
   "cell_type": "code",
   "execution_count": 46,
   "id": "504096e6",
   "metadata": {},
   "outputs": [
    {
     "data": {
      "text/html": [
       "<style type=\"text/css\">\n",
       "#T_a2602_row0_col0, #T_a2602_row0_col1, #T_a2602_row0_col2, #T_a2602_row0_col3, #T_a2602_row0_col4, #T_a2602_row0_col5, #T_a2602_row0_col6, #T_a2602_row0_col7, #T_a2602_row0_col8, #T_a2602_row0_col9, #T_a2602_row0_col10, #T_a2602_row0_col11, #T_a2602_row0_col12, #T_a2602_row0_col13, #T_a2602_row0_col14, #T_a2602_row0_col15, #T_a2602_row0_col16, #T_a2602_row0_col17, #T_a2602_row0_col18, #T_a2602_row0_col19, #T_a2602_row0_col20, #T_a2602_row0_col21, #T_a2602_row0_col22, #T_a2602_row0_col23, #T_a2602_row0_col24, #T_a2602_row0_col25, #T_a2602_row0_col26, #T_a2602_row0_col27, #T_a2602_row0_col28, #T_a2602_row0_col29 {\n",
       "  background-color: #023858;\n",
       "  color: #f1f1f1;\n",
       "}\n",
       "#T_a2602_row1_col0, #T_a2602_row1_col1, #T_a2602_row1_col2, #T_a2602_row1_col3, #T_a2602_row1_col4, #T_a2602_row1_col5, #T_a2602_row1_col6, #T_a2602_row1_col7, #T_a2602_row1_col8, #T_a2602_row1_col9, #T_a2602_row1_col10, #T_a2602_row1_col11, #T_a2602_row1_col12, #T_a2602_row1_col13, #T_a2602_row1_col14, #T_a2602_row1_col15, #T_a2602_row1_col16, #T_a2602_row1_col17, #T_a2602_row1_col18, #T_a2602_row1_col19, #T_a2602_row1_col20, #T_a2602_row1_col21, #T_a2602_row1_col22, #T_a2602_row1_col23, #T_a2602_row1_col24, #T_a2602_row1_col25, #T_a2602_row1_col26, #T_a2602_row1_col27, #T_a2602_row1_col28, #T_a2602_row1_col29, #T_a2602_row2_col0, #T_a2602_row2_col1, #T_a2602_row2_col2, #T_a2602_row2_col3, #T_a2602_row2_col4, #T_a2602_row2_col5, #T_a2602_row2_col6, #T_a2602_row2_col7, #T_a2602_row2_col8, #T_a2602_row2_col9, #T_a2602_row2_col10, #T_a2602_row2_col11, #T_a2602_row2_col12, #T_a2602_row2_col13, #T_a2602_row2_col14, #T_a2602_row2_col15, #T_a2602_row2_col16, #T_a2602_row2_col17, #T_a2602_row2_col18, #T_a2602_row2_col19, #T_a2602_row2_col20, #T_a2602_row2_col21, #T_a2602_row2_col22, #T_a2602_row2_col23, #T_a2602_row2_col24, #T_a2602_row2_col25, #T_a2602_row2_col26, #T_a2602_row2_col27, #T_a2602_row2_col28, #T_a2602_row2_col29, #T_a2602_row3_col0, #T_a2602_row3_col1, #T_a2602_row3_col2, #T_a2602_row3_col3, #T_a2602_row3_col4, #T_a2602_row3_col5, #T_a2602_row3_col6, #T_a2602_row3_col7, #T_a2602_row3_col8, #T_a2602_row3_col9, #T_a2602_row3_col10, #T_a2602_row3_col11, #T_a2602_row3_col12, #T_a2602_row3_col13, #T_a2602_row3_col14, #T_a2602_row3_col15, #T_a2602_row3_col16, #T_a2602_row3_col17, #T_a2602_row3_col18, #T_a2602_row3_col19, #T_a2602_row3_col20, #T_a2602_row3_col21, #T_a2602_row3_col22, #T_a2602_row3_col23, #T_a2602_row3_col24, #T_a2602_row3_col25, #T_a2602_row3_col26, #T_a2602_row3_col27, #T_a2602_row3_col28, #T_a2602_row3_col29, #T_a2602_row4_col0, #T_a2602_row4_col1, #T_a2602_row4_col2, #T_a2602_row4_col3, #T_a2602_row4_col4, #T_a2602_row4_col5, #T_a2602_row4_col6, #T_a2602_row4_col7, #T_a2602_row4_col8, #T_a2602_row4_col9, #T_a2602_row4_col10, #T_a2602_row4_col11, #T_a2602_row4_col12, #T_a2602_row4_col13, #T_a2602_row4_col14, #T_a2602_row4_col15, #T_a2602_row4_col16, #T_a2602_row4_col17, #T_a2602_row4_col18, #T_a2602_row4_col19, #T_a2602_row4_col20, #T_a2602_row4_col21, #T_a2602_row4_col22, #T_a2602_row4_col23, #T_a2602_row4_col24, #T_a2602_row4_col25, #T_a2602_row4_col26, #T_a2602_row4_col27, #T_a2602_row4_col28, #T_a2602_row4_col29, #T_a2602_row5_col0, #T_a2602_row5_col1, #T_a2602_row5_col2, #T_a2602_row5_col3, #T_a2602_row5_col4, #T_a2602_row5_col5, #T_a2602_row5_col6, #T_a2602_row5_col7, #T_a2602_row5_col8, #T_a2602_row5_col9, #T_a2602_row5_col10, #T_a2602_row5_col11, #T_a2602_row5_col12, #T_a2602_row5_col13, #T_a2602_row5_col14, #T_a2602_row5_col15, #T_a2602_row5_col16, #T_a2602_row5_col17, #T_a2602_row5_col18, #T_a2602_row5_col19, #T_a2602_row5_col20, #T_a2602_row5_col21, #T_a2602_row5_col22, #T_a2602_row5_col23, #T_a2602_row5_col24, #T_a2602_row5_col25, #T_a2602_row5_col26, #T_a2602_row5_col27, #T_a2602_row5_col28, #T_a2602_row5_col29, #T_a2602_row6_col0, #T_a2602_row6_col1, #T_a2602_row6_col2, #T_a2602_row6_col3, #T_a2602_row6_col4, #T_a2602_row6_col5, #T_a2602_row6_col6, #T_a2602_row6_col7, #T_a2602_row6_col8, #T_a2602_row6_col9, #T_a2602_row6_col10, #T_a2602_row6_col11, #T_a2602_row6_col12, #T_a2602_row6_col13, #T_a2602_row6_col14, #T_a2602_row6_col15, #T_a2602_row6_col16, #T_a2602_row6_col17, #T_a2602_row6_col18, #T_a2602_row6_col19, #T_a2602_row6_col20, #T_a2602_row6_col21, #T_a2602_row6_col22, #T_a2602_row6_col23, #T_a2602_row6_col24, #T_a2602_row6_col25, #T_a2602_row6_col26, #T_a2602_row6_col27, #T_a2602_row6_col28, #T_a2602_row6_col29, #T_a2602_row7_col0, #T_a2602_row7_col1, #T_a2602_row7_col2, #T_a2602_row7_col3, #T_a2602_row7_col4, #T_a2602_row7_col5, #T_a2602_row7_col6, #T_a2602_row7_col7, #T_a2602_row7_col8, #T_a2602_row7_col9, #T_a2602_row7_col10, #T_a2602_row7_col11, #T_a2602_row7_col12, #T_a2602_row7_col13, #T_a2602_row7_col14, #T_a2602_row7_col15, #T_a2602_row7_col16, #T_a2602_row7_col17, #T_a2602_row7_col18, #T_a2602_row7_col19, #T_a2602_row7_col20, #T_a2602_row7_col21, #T_a2602_row7_col22, #T_a2602_row7_col23, #T_a2602_row7_col24, #T_a2602_row7_col25, #T_a2602_row7_col26, #T_a2602_row7_col27, #T_a2602_row7_col28, #T_a2602_row7_col29 {\n",
       "  background-color: #fff7fb;\n",
       "  color: #000000;\n",
       "}\n",
       "</style>\n",
       "<table id=\"T_a2602_\">\n",
       "  <thead>\n",
       "    <tr>\n",
       "      <th class=\"blank level0\" >&nbsp;</th>\n",
       "      <th class=\"col_heading level0 col0\" >V1</th>\n",
       "      <th class=\"col_heading level0 col1\" >V2</th>\n",
       "      <th class=\"col_heading level0 col2\" >V3</th>\n",
       "      <th class=\"col_heading level0 col3\" >V4</th>\n",
       "      <th class=\"col_heading level0 col4\" >V5</th>\n",
       "      <th class=\"col_heading level0 col5\" >V6</th>\n",
       "      <th class=\"col_heading level0 col6\" >V7</th>\n",
       "      <th class=\"col_heading level0 col7\" >V8</th>\n",
       "      <th class=\"col_heading level0 col8\" >V9</th>\n",
       "      <th class=\"col_heading level0 col9\" >V10</th>\n",
       "      <th class=\"col_heading level0 col10\" >V11</th>\n",
       "      <th class=\"col_heading level0 col11\" >V12</th>\n",
       "      <th class=\"col_heading level0 col12\" >V13</th>\n",
       "      <th class=\"col_heading level0 col13\" >V14</th>\n",
       "      <th class=\"col_heading level0 col14\" >V15</th>\n",
       "      <th class=\"col_heading level0 col15\" >V16</th>\n",
       "      <th class=\"col_heading level0 col16\" >V17</th>\n",
       "      <th class=\"col_heading level0 col17\" >V18</th>\n",
       "      <th class=\"col_heading level0 col18\" >V19</th>\n",
       "      <th class=\"col_heading level0 col19\" >V20</th>\n",
       "      <th class=\"col_heading level0 col20\" >V21</th>\n",
       "      <th class=\"col_heading level0 col21\" >V22</th>\n",
       "      <th class=\"col_heading level0 col22\" >V23</th>\n",
       "      <th class=\"col_heading level0 col23\" >V24</th>\n",
       "      <th class=\"col_heading level0 col24\" >V25</th>\n",
       "      <th class=\"col_heading level0 col25\" >V26</th>\n",
       "      <th class=\"col_heading level0 col26\" >V27</th>\n",
       "      <th class=\"col_heading level0 col27\" >V28</th>\n",
       "      <th class=\"col_heading level0 col28\" >Class</th>\n",
       "      <th class=\"col_heading level0 col29\" >Scaled_Amount</th>\n",
       "    </tr>\n",
       "  </thead>\n",
       "  <tbody>\n",
       "    <tr>\n",
       "      <th id=\"T_a2602_level0_row0\" class=\"row_heading level0 row0\" >count</th>\n",
       "      <td id=\"T_a2602_row0_col0\" class=\"data row0 col0\" >284797.000000</td>\n",
       "      <td id=\"T_a2602_row0_col1\" class=\"data row0 col1\" >284797.000000</td>\n",
       "      <td id=\"T_a2602_row0_col2\" class=\"data row0 col2\" >284797.000000</td>\n",
       "      <td id=\"T_a2602_row0_col3\" class=\"data row0 col3\" >284797.000000</td>\n",
       "      <td id=\"T_a2602_row0_col4\" class=\"data row0 col4\" >284797.000000</td>\n",
       "      <td id=\"T_a2602_row0_col5\" class=\"data row0 col5\" >284797.000000</td>\n",
       "      <td id=\"T_a2602_row0_col6\" class=\"data row0 col6\" >284797.000000</td>\n",
       "      <td id=\"T_a2602_row0_col7\" class=\"data row0 col7\" >284797.000000</td>\n",
       "      <td id=\"T_a2602_row0_col8\" class=\"data row0 col8\" >284797.000000</td>\n",
       "      <td id=\"T_a2602_row0_col9\" class=\"data row0 col9\" >284797.000000</td>\n",
       "      <td id=\"T_a2602_row0_col10\" class=\"data row0 col10\" >284797.000000</td>\n",
       "      <td id=\"T_a2602_row0_col11\" class=\"data row0 col11\" >284797.000000</td>\n",
       "      <td id=\"T_a2602_row0_col12\" class=\"data row0 col12\" >284797.000000</td>\n",
       "      <td id=\"T_a2602_row0_col13\" class=\"data row0 col13\" >284797.000000</td>\n",
       "      <td id=\"T_a2602_row0_col14\" class=\"data row0 col14\" >284797.000000</td>\n",
       "      <td id=\"T_a2602_row0_col15\" class=\"data row0 col15\" >284797.000000</td>\n",
       "      <td id=\"T_a2602_row0_col16\" class=\"data row0 col16\" >284797.000000</td>\n",
       "      <td id=\"T_a2602_row0_col17\" class=\"data row0 col17\" >284797.000000</td>\n",
       "      <td id=\"T_a2602_row0_col18\" class=\"data row0 col18\" >284797.000000</td>\n",
       "      <td id=\"T_a2602_row0_col19\" class=\"data row0 col19\" >284797.000000</td>\n",
       "      <td id=\"T_a2602_row0_col20\" class=\"data row0 col20\" >284797.000000</td>\n",
       "      <td id=\"T_a2602_row0_col21\" class=\"data row0 col21\" >284797.000000</td>\n",
       "      <td id=\"T_a2602_row0_col22\" class=\"data row0 col22\" >284797.000000</td>\n",
       "      <td id=\"T_a2602_row0_col23\" class=\"data row0 col23\" >284797.000000</td>\n",
       "      <td id=\"T_a2602_row0_col24\" class=\"data row0 col24\" >284797.000000</td>\n",
       "      <td id=\"T_a2602_row0_col25\" class=\"data row0 col25\" >284797.000000</td>\n",
       "      <td id=\"T_a2602_row0_col26\" class=\"data row0 col26\" >284797.000000</td>\n",
       "      <td id=\"T_a2602_row0_col27\" class=\"data row0 col27\" >284797.000000</td>\n",
       "      <td id=\"T_a2602_row0_col28\" class=\"data row0 col28\" >284797.000000</td>\n",
       "      <td id=\"T_a2602_row0_col29\" class=\"data row0 col29\" >284797.000000</td>\n",
       "    </tr>\n",
       "    <tr>\n",
       "      <th id=\"T_a2602_level0_row1\" class=\"row_heading level0 row1\" >mean</th>\n",
       "      <td id=\"T_a2602_row1_col0\" class=\"data row1 col0\" >0.000000</td>\n",
       "      <td id=\"T_a2602_row1_col1\" class=\"data row1 col1\" >0.000000</td>\n",
       "      <td id=\"T_a2602_row1_col2\" class=\"data row1 col2\" >0.000000</td>\n",
       "      <td id=\"T_a2602_row1_col3\" class=\"data row1 col3\" >-0.000000</td>\n",
       "      <td id=\"T_a2602_row1_col4\" class=\"data row1 col4\" >0.000000</td>\n",
       "      <td id=\"T_a2602_row1_col5\" class=\"data row1 col5\" >-0.000000</td>\n",
       "      <td id=\"T_a2602_row1_col6\" class=\"data row1 col6\" >-0.000000</td>\n",
       "      <td id=\"T_a2602_row1_col7\" class=\"data row1 col7\" >0.000000</td>\n",
       "      <td id=\"T_a2602_row1_col8\" class=\"data row1 col8\" >0.000000</td>\n",
       "      <td id=\"T_a2602_row1_col9\" class=\"data row1 col9\" >0.000000</td>\n",
       "      <td id=\"T_a2602_row1_col10\" class=\"data row1 col10\" >-0.000000</td>\n",
       "      <td id=\"T_a2602_row1_col11\" class=\"data row1 col11\" >0.000000</td>\n",
       "      <td id=\"T_a2602_row1_col12\" class=\"data row1 col12\" >-0.000000</td>\n",
       "      <td id=\"T_a2602_row1_col13\" class=\"data row1 col13\" >-0.000000</td>\n",
       "      <td id=\"T_a2602_row1_col14\" class=\"data row1 col14\" >-0.000000</td>\n",
       "      <td id=\"T_a2602_row1_col15\" class=\"data row1 col15\" >-0.000000</td>\n",
       "      <td id=\"T_a2602_row1_col16\" class=\"data row1 col16\" >0.000000</td>\n",
       "      <td id=\"T_a2602_row1_col17\" class=\"data row1 col17\" >-0.000000</td>\n",
       "      <td id=\"T_a2602_row1_col18\" class=\"data row1 col18\" >0.000000</td>\n",
       "      <td id=\"T_a2602_row1_col19\" class=\"data row1 col19\" >-0.000000</td>\n",
       "      <td id=\"T_a2602_row1_col20\" class=\"data row1 col20\" >-0.000000</td>\n",
       "      <td id=\"T_a2602_row1_col21\" class=\"data row1 col21\" >0.000000</td>\n",
       "      <td id=\"T_a2602_row1_col22\" class=\"data row1 col22\" >0.000000</td>\n",
       "      <td id=\"T_a2602_row1_col23\" class=\"data row1 col23\" >-0.000000</td>\n",
       "      <td id=\"T_a2602_row1_col24\" class=\"data row1 col24\" >0.000000</td>\n",
       "      <td id=\"T_a2602_row1_col25\" class=\"data row1 col25\" >0.000000</td>\n",
       "      <td id=\"T_a2602_row1_col26\" class=\"data row1 col26\" >-0.000000</td>\n",
       "      <td id=\"T_a2602_row1_col27\" class=\"data row1 col27\" >0.000000</td>\n",
       "      <td id=\"T_a2602_row1_col28\" class=\"data row1 col28\" >0.000000</td>\n",
       "      <td id=\"T_a2602_row1_col29\" class=\"data row1 col29\" >0.000000</td>\n",
       "    </tr>\n",
       "    <tr>\n",
       "      <th id=\"T_a2602_level0_row2\" class=\"row_heading level0 row2\" >std</th>\n",
       "      <td id=\"T_a2602_row2_col0\" class=\"data row2 col0\" >1.950000</td>\n",
       "      <td id=\"T_a2602_row2_col1\" class=\"data row2 col1\" >1.630000</td>\n",
       "      <td id=\"T_a2602_row2_col2\" class=\"data row2 col2\" >1.510000</td>\n",
       "      <td id=\"T_a2602_row2_col3\" class=\"data row2 col3\" >1.410000</td>\n",
       "      <td id=\"T_a2602_row2_col4\" class=\"data row2 col4\" >1.360000</td>\n",
       "      <td id=\"T_a2602_row2_col5\" class=\"data row2 col5\" >1.320000</td>\n",
       "      <td id=\"T_a2602_row2_col6\" class=\"data row2 col6\" >1.210000</td>\n",
       "      <td id=\"T_a2602_row2_col7\" class=\"data row2 col7\" >1.190000</td>\n",
       "      <td id=\"T_a2602_row2_col8\" class=\"data row2 col8\" >1.100000</td>\n",
       "      <td id=\"T_a2602_row2_col9\" class=\"data row2 col9\" >1.090000</td>\n",
       "      <td id=\"T_a2602_row2_col10\" class=\"data row2 col10\" >1.020000</td>\n",
       "      <td id=\"T_a2602_row2_col11\" class=\"data row2 col11\" >1.000000</td>\n",
       "      <td id=\"T_a2602_row2_col12\" class=\"data row2 col12\" >1.000000</td>\n",
       "      <td id=\"T_a2602_row2_col13\" class=\"data row2 col13\" >0.960000</td>\n",
       "      <td id=\"T_a2602_row2_col14\" class=\"data row2 col14\" >0.920000</td>\n",
       "      <td id=\"T_a2602_row2_col15\" class=\"data row2 col15\" >0.880000</td>\n",
       "      <td id=\"T_a2602_row2_col16\" class=\"data row2 col16\" >0.850000</td>\n",
       "      <td id=\"T_a2602_row2_col17\" class=\"data row2 col17\" >0.840000</td>\n",
       "      <td id=\"T_a2602_row2_col18\" class=\"data row2 col18\" >0.810000</td>\n",
       "      <td id=\"T_a2602_row2_col19\" class=\"data row2 col19\" >0.750000</td>\n",
       "      <td id=\"T_a2602_row2_col20\" class=\"data row2 col20\" >0.730000</td>\n",
       "      <td id=\"T_a2602_row2_col21\" class=\"data row2 col21\" >0.720000</td>\n",
       "      <td id=\"T_a2602_row2_col22\" class=\"data row2 col22\" >0.620000</td>\n",
       "      <td id=\"T_a2602_row2_col23\" class=\"data row2 col23\" >0.610000</td>\n",
       "      <td id=\"T_a2602_row2_col24\" class=\"data row2 col24\" >0.520000</td>\n",
       "      <td id=\"T_a2602_row2_col25\" class=\"data row2 col25\" >0.480000</td>\n",
       "      <td id=\"T_a2602_row2_col26\" class=\"data row2 col26\" >0.400000</td>\n",
       "      <td id=\"T_a2602_row2_col27\" class=\"data row2 col27\" >0.330000</td>\n",
       "      <td id=\"T_a2602_row2_col28\" class=\"data row2 col28\" >0.040000</td>\n",
       "      <td id=\"T_a2602_row2_col29\" class=\"data row2 col29\" >1.000000</td>\n",
       "    </tr>\n",
       "    <tr>\n",
       "      <th id=\"T_a2602_level0_row3\" class=\"row_heading level0 row3\" >min</th>\n",
       "      <td id=\"T_a2602_row3_col0\" class=\"data row3 col0\" >-56.410000</td>\n",
       "      <td id=\"T_a2602_row3_col1\" class=\"data row3 col1\" >-72.720000</td>\n",
       "      <td id=\"T_a2602_row3_col2\" class=\"data row3 col2\" >-33.680000</td>\n",
       "      <td id=\"T_a2602_row3_col3\" class=\"data row3 col3\" >-5.680000</td>\n",
       "      <td id=\"T_a2602_row3_col4\" class=\"data row3 col4\" >-42.150000</td>\n",
       "      <td id=\"T_a2602_row3_col5\" class=\"data row3 col5\" >-26.160000</td>\n",
       "      <td id=\"T_a2602_row3_col6\" class=\"data row3 col6\" >-43.560000</td>\n",
       "      <td id=\"T_a2602_row3_col7\" class=\"data row3 col7\" >-73.220000</td>\n",
       "      <td id=\"T_a2602_row3_col8\" class=\"data row3 col8\" >-13.430000</td>\n",
       "      <td id=\"T_a2602_row3_col9\" class=\"data row3 col9\" >-24.590000</td>\n",
       "      <td id=\"T_a2602_row3_col10\" class=\"data row3 col10\" >-4.800000</td>\n",
       "      <td id=\"T_a2602_row3_col11\" class=\"data row3 col11\" >-18.680000</td>\n",
       "      <td id=\"T_a2602_row3_col12\" class=\"data row3 col12\" >-5.790000</td>\n",
       "      <td id=\"T_a2602_row3_col13\" class=\"data row3 col13\" >-19.210000</td>\n",
       "      <td id=\"T_a2602_row3_col14\" class=\"data row3 col14\" >-4.500000</td>\n",
       "      <td id=\"T_a2602_row3_col15\" class=\"data row3 col15\" >-14.130000</td>\n",
       "      <td id=\"T_a2602_row3_col16\" class=\"data row3 col16\" >-25.160000</td>\n",
       "      <td id=\"T_a2602_row3_col17\" class=\"data row3 col17\" >-9.500000</td>\n",
       "      <td id=\"T_a2602_row3_col18\" class=\"data row3 col18\" >-4.930000</td>\n",
       "      <td id=\"T_a2602_row3_col19\" class=\"data row3 col19\" >-28.010000</td>\n",
       "      <td id=\"T_a2602_row3_col20\" class=\"data row3 col20\" >-34.830000</td>\n",
       "      <td id=\"T_a2602_row3_col21\" class=\"data row3 col21\" >-8.890000</td>\n",
       "      <td id=\"T_a2602_row3_col22\" class=\"data row3 col22\" >-44.810000</td>\n",
       "      <td id=\"T_a2602_row3_col23\" class=\"data row3 col23\" >-2.840000</td>\n",
       "      <td id=\"T_a2602_row3_col24\" class=\"data row3 col24\" >-10.300000</td>\n",
       "      <td id=\"T_a2602_row3_col25\" class=\"data row3 col25\" >-2.070000</td>\n",
       "      <td id=\"T_a2602_row3_col26\" class=\"data row3 col26\" >-22.570000</td>\n",
       "      <td id=\"T_a2602_row3_col27\" class=\"data row3 col27\" >-11.710000</td>\n",
       "      <td id=\"T_a2602_row3_col28\" class=\"data row3 col28\" >0.000000</td>\n",
       "      <td id=\"T_a2602_row3_col29\" class=\"data row3 col29\" >-0.380000</td>\n",
       "    </tr>\n",
       "    <tr>\n",
       "      <th id=\"T_a2602_level0_row4\" class=\"row_heading level0 row4\" >25%</th>\n",
       "      <td id=\"T_a2602_row4_col0\" class=\"data row4 col0\" >-0.920000</td>\n",
       "      <td id=\"T_a2602_row4_col1\" class=\"data row4 col1\" >-0.600000</td>\n",
       "      <td id=\"T_a2602_row4_col2\" class=\"data row4 col2\" >-0.890000</td>\n",
       "      <td id=\"T_a2602_row4_col3\" class=\"data row4 col3\" >-0.850000</td>\n",
       "      <td id=\"T_a2602_row4_col4\" class=\"data row4 col4\" >-0.690000</td>\n",
       "      <td id=\"T_a2602_row4_col5\" class=\"data row4 col5\" >-0.770000</td>\n",
       "      <td id=\"T_a2602_row4_col6\" class=\"data row4 col6\" >-0.550000</td>\n",
       "      <td id=\"T_a2602_row4_col7\" class=\"data row4 col7\" >-0.210000</td>\n",
       "      <td id=\"T_a2602_row4_col8\" class=\"data row4 col8\" >-0.640000</td>\n",
       "      <td id=\"T_a2602_row4_col9\" class=\"data row4 col9\" >-0.540000</td>\n",
       "      <td id=\"T_a2602_row4_col10\" class=\"data row4 col10\" >-0.760000</td>\n",
       "      <td id=\"T_a2602_row4_col11\" class=\"data row4 col11\" >-0.410000</td>\n",
       "      <td id=\"T_a2602_row4_col12\" class=\"data row4 col12\" >-0.650000</td>\n",
       "      <td id=\"T_a2602_row4_col13\" class=\"data row4 col13\" >-0.430000</td>\n",
       "      <td id=\"T_a2602_row4_col14\" class=\"data row4 col14\" >-0.580000</td>\n",
       "      <td id=\"T_a2602_row4_col15\" class=\"data row4 col15\" >-0.470000</td>\n",
       "      <td id=\"T_a2602_row4_col16\" class=\"data row4 col16\" >-0.480000</td>\n",
       "      <td id=\"T_a2602_row4_col17\" class=\"data row4 col17\" >-0.500000</td>\n",
       "      <td id=\"T_a2602_row4_col18\" class=\"data row4 col18\" >-0.460000</td>\n",
       "      <td id=\"T_a2602_row4_col19\" class=\"data row4 col19\" >-0.210000</td>\n",
       "      <td id=\"T_a2602_row4_col20\" class=\"data row4 col20\" >-0.230000</td>\n",
       "      <td id=\"T_a2602_row4_col21\" class=\"data row4 col21\" >-0.540000</td>\n",
       "      <td id=\"T_a2602_row4_col22\" class=\"data row4 col22\" >-0.160000</td>\n",
       "      <td id=\"T_a2602_row4_col23\" class=\"data row4 col23\" >-0.350000</td>\n",
       "      <td id=\"T_a2602_row4_col24\" class=\"data row4 col24\" >-0.320000</td>\n",
       "      <td id=\"T_a2602_row4_col25\" class=\"data row4 col25\" >-0.330000</td>\n",
       "      <td id=\"T_a2602_row4_col26\" class=\"data row4 col26\" >-0.070000</td>\n",
       "      <td id=\"T_a2602_row4_col27\" class=\"data row4 col27\" >-0.050000</td>\n",
       "      <td id=\"T_a2602_row4_col28\" class=\"data row4 col28\" >0.000000</td>\n",
       "      <td id=\"T_a2602_row4_col29\" class=\"data row4 col29\" >-0.350000</td>\n",
       "    </tr>\n",
       "    <tr>\n",
       "      <th id=\"T_a2602_level0_row5\" class=\"row_heading level0 row5\" >50%</th>\n",
       "      <td id=\"T_a2602_row5_col0\" class=\"data row5 col0\" >0.020000</td>\n",
       "      <td id=\"T_a2602_row5_col1\" class=\"data row5 col1\" >0.070000</td>\n",
       "      <td id=\"T_a2602_row5_col2\" class=\"data row5 col2\" >0.180000</td>\n",
       "      <td id=\"T_a2602_row5_col3\" class=\"data row5 col3\" >-0.020000</td>\n",
       "      <td id=\"T_a2602_row5_col4\" class=\"data row5 col4\" >-0.050000</td>\n",
       "      <td id=\"T_a2602_row5_col5\" class=\"data row5 col5\" >-0.270000</td>\n",
       "      <td id=\"T_a2602_row5_col6\" class=\"data row5 col6\" >0.040000</td>\n",
       "      <td id=\"T_a2602_row5_col7\" class=\"data row5 col7\" >0.020000</td>\n",
       "      <td id=\"T_a2602_row5_col8\" class=\"data row5 col8\" >-0.050000</td>\n",
       "      <td id=\"T_a2602_row5_col9\" class=\"data row5 col9\" >-0.090000</td>\n",
       "      <td id=\"T_a2602_row5_col10\" class=\"data row5 col10\" >-0.030000</td>\n",
       "      <td id=\"T_a2602_row5_col11\" class=\"data row5 col11\" >0.140000</td>\n",
       "      <td id=\"T_a2602_row5_col12\" class=\"data row5 col12\" >-0.010000</td>\n",
       "      <td id=\"T_a2602_row5_col13\" class=\"data row5 col13\" >0.050000</td>\n",
       "      <td id=\"T_a2602_row5_col14\" class=\"data row5 col14\" >0.050000</td>\n",
       "      <td id=\"T_a2602_row5_col15\" class=\"data row5 col15\" >0.070000</td>\n",
       "      <td id=\"T_a2602_row5_col16\" class=\"data row5 col16\" >-0.070000</td>\n",
       "      <td id=\"T_a2602_row5_col17\" class=\"data row5 col17\" >-0.000000</td>\n",
       "      <td id=\"T_a2602_row5_col18\" class=\"data row5 col18\" >0.000000</td>\n",
       "      <td id=\"T_a2602_row5_col19\" class=\"data row5 col19\" >-0.060000</td>\n",
       "      <td id=\"T_a2602_row5_col20\" class=\"data row5 col20\" >-0.030000</td>\n",
       "      <td id=\"T_a2602_row5_col21\" class=\"data row5 col21\" >0.010000</td>\n",
       "      <td id=\"T_a2602_row5_col22\" class=\"data row5 col22\" >-0.010000</td>\n",
       "      <td id=\"T_a2602_row5_col23\" class=\"data row5 col23\" >0.040000</td>\n",
       "      <td id=\"T_a2602_row5_col24\" class=\"data row5 col24\" >0.020000</td>\n",
       "      <td id=\"T_a2602_row5_col25\" class=\"data row5 col25\" >-0.050000</td>\n",
       "      <td id=\"T_a2602_row5_col26\" class=\"data row5 col26\" >0.000000</td>\n",
       "      <td id=\"T_a2602_row5_col27\" class=\"data row5 col27\" >0.010000</td>\n",
       "      <td id=\"T_a2602_row5_col28\" class=\"data row5 col28\" >0.000000</td>\n",
       "      <td id=\"T_a2602_row5_col29\" class=\"data row5 col29\" >-0.280000</td>\n",
       "    </tr>\n",
       "    <tr>\n",
       "      <th id=\"T_a2602_level0_row6\" class=\"row_heading level0 row6\" >75%</th>\n",
       "      <td id=\"T_a2602_row6_col0\" class=\"data row6 col0\" >1.320000</td>\n",
       "      <td id=\"T_a2602_row6_col1\" class=\"data row6 col1\" >0.800000</td>\n",
       "      <td id=\"T_a2602_row6_col2\" class=\"data row6 col2\" >1.030000</td>\n",
       "      <td id=\"T_a2602_row6_col3\" class=\"data row6 col3\" >0.740000</td>\n",
       "      <td id=\"T_a2602_row6_col4\" class=\"data row6 col4\" >0.610000</td>\n",
       "      <td id=\"T_a2602_row6_col5\" class=\"data row6 col5\" >0.400000</td>\n",
       "      <td id=\"T_a2602_row6_col6\" class=\"data row6 col6\" >0.570000</td>\n",
       "      <td id=\"T_a2602_row6_col7\" class=\"data row6 col7\" >0.330000</td>\n",
       "      <td id=\"T_a2602_row6_col8\" class=\"data row6 col8\" >0.600000</td>\n",
       "      <td id=\"T_a2602_row6_col9\" class=\"data row6 col9\" >0.450000</td>\n",
       "      <td id=\"T_a2602_row6_col10\" class=\"data row6 col10\" >0.740000</td>\n",
       "      <td id=\"T_a2602_row6_col11\" class=\"data row6 col11\" >0.620000</td>\n",
       "      <td id=\"T_a2602_row6_col12\" class=\"data row6 col12\" >0.660000</td>\n",
       "      <td id=\"T_a2602_row6_col13\" class=\"data row6 col13\" >0.490000</td>\n",
       "      <td id=\"T_a2602_row6_col14\" class=\"data row6 col14\" >0.650000</td>\n",
       "      <td id=\"T_a2602_row6_col15\" class=\"data row6 col15\" >0.520000</td>\n",
       "      <td id=\"T_a2602_row6_col16\" class=\"data row6 col16\" >0.400000</td>\n",
       "      <td id=\"T_a2602_row6_col17\" class=\"data row6 col17\" >0.500000</td>\n",
       "      <td id=\"T_a2602_row6_col18\" class=\"data row6 col18\" >0.460000</td>\n",
       "      <td id=\"T_a2602_row6_col19\" class=\"data row6 col19\" >0.130000</td>\n",
       "      <td id=\"T_a2602_row6_col20\" class=\"data row6 col20\" >0.190000</td>\n",
       "      <td id=\"T_a2602_row6_col21\" class=\"data row6 col21\" >0.530000</td>\n",
       "      <td id=\"T_a2602_row6_col22\" class=\"data row6 col22\" >0.150000</td>\n",
       "      <td id=\"T_a2602_row6_col23\" class=\"data row6 col23\" >0.440000</td>\n",
       "      <td id=\"T_a2602_row6_col24\" class=\"data row6 col24\" >0.350000</td>\n",
       "      <td id=\"T_a2602_row6_col25\" class=\"data row6 col25\" >0.240000</td>\n",
       "      <td id=\"T_a2602_row6_col26\" class=\"data row6 col26\" >0.090000</td>\n",
       "      <td id=\"T_a2602_row6_col27\" class=\"data row6 col27\" >0.080000</td>\n",
       "      <td id=\"T_a2602_row6_col28\" class=\"data row6 col28\" >0.000000</td>\n",
       "      <td id=\"T_a2602_row6_col29\" class=\"data row6 col29\" >-0.050000</td>\n",
       "    </tr>\n",
       "    <tr>\n",
       "      <th id=\"T_a2602_level0_row7\" class=\"row_heading level0 row7\" >max</th>\n",
       "      <td id=\"T_a2602_row7_col0\" class=\"data row7 col0\" >2.450000</td>\n",
       "      <td id=\"T_a2602_row7_col1\" class=\"data row7 col1\" >22.060000</td>\n",
       "      <td id=\"T_a2602_row7_col2\" class=\"data row7 col2\" >9.380000</td>\n",
       "      <td id=\"T_a2602_row7_col3\" class=\"data row7 col3\" >16.490000</td>\n",
       "      <td id=\"T_a2602_row7_col4\" class=\"data row7 col4\" >34.800000</td>\n",
       "      <td id=\"T_a2602_row7_col5\" class=\"data row7 col5\" >22.530000</td>\n",
       "      <td id=\"T_a2602_row7_col6\" class=\"data row7 col6\" >36.880000</td>\n",
       "      <td id=\"T_a2602_row7_col7\" class=\"data row7 col7\" >20.010000</td>\n",
       "      <td id=\"T_a2602_row7_col8\" class=\"data row7 col8\" >15.590000</td>\n",
       "      <td id=\"T_a2602_row7_col9\" class=\"data row7 col9\" >23.750000</td>\n",
       "      <td id=\"T_a2602_row7_col10\" class=\"data row7 col10\" >12.020000</td>\n",
       "      <td id=\"T_a2602_row7_col11\" class=\"data row7 col11\" >7.850000</td>\n",
       "      <td id=\"T_a2602_row7_col12\" class=\"data row7 col12\" >4.570000</td>\n",
       "      <td id=\"T_a2602_row7_col13\" class=\"data row7 col13\" >10.530000</td>\n",
       "      <td id=\"T_a2602_row7_col14\" class=\"data row7 col14\" >5.830000</td>\n",
       "      <td id=\"T_a2602_row7_col15\" class=\"data row7 col15\" >8.290000</td>\n",
       "      <td id=\"T_a2602_row7_col16\" class=\"data row7 col16\" >9.250000</td>\n",
       "      <td id=\"T_a2602_row7_col17\" class=\"data row7 col17\" >4.300000</td>\n",
       "      <td id=\"T_a2602_row7_col18\" class=\"data row7 col18\" >5.590000</td>\n",
       "      <td id=\"T_a2602_row7_col19\" class=\"data row7 col19\" >23.640000</td>\n",
       "      <td id=\"T_a2602_row7_col20\" class=\"data row7 col20\" >27.200000</td>\n",
       "      <td id=\"T_a2602_row7_col21\" class=\"data row7 col21\" >10.500000</td>\n",
       "      <td id=\"T_a2602_row7_col22\" class=\"data row7 col22\" >22.530000</td>\n",
       "      <td id=\"T_a2602_row7_col23\" class=\"data row7 col23\" >4.020000</td>\n",
       "      <td id=\"T_a2602_row7_col24\" class=\"data row7 col24\" >7.520000</td>\n",
       "      <td id=\"T_a2602_row7_col25\" class=\"data row7 col25\" >3.520000</td>\n",
       "      <td id=\"T_a2602_row7_col26\" class=\"data row7 col26\" >11.140000</td>\n",
       "      <td id=\"T_a2602_row7_col27\" class=\"data row7 col27\" >33.850000</td>\n",
       "      <td id=\"T_a2602_row7_col28\" class=\"data row7 col28\" >1.000000</td>\n",
       "      <td id=\"T_a2602_row7_col29\" class=\"data row7 col29\" >35.310000</td>\n",
       "    </tr>\n",
       "  </tbody>\n",
       "</table>\n"
      ],
      "text/plain": [
       "<pandas.io.formats.style.Styler at 0x2cfcd602700>"
      ]
     },
     "execution_count": 46,
     "metadata": {},
     "output_type": "execute_result"
    }
   ],
   "source": [
    "data.describe().round(2).style.background_gradient()\n"
   ]
  },
  {
   "cell_type": "markdown",
   "id": "a4b621cb",
   "metadata": {},
   "source": [
    "### Equilibrer les données"
   ]
  },
  {
   "cell_type": "code",
   "execution_count": 51,
   "id": "ea959f60",
   "metadata": {},
   "outputs": [],
   "source": [
    "X = data.drop('Class', axis = 1)\n",
    "y = data['Class']"
   ]
  },
  {
   "cell_type": "code",
   "execution_count": null,
   "id": "7239e8c2",
   "metadata": {},
   "outputs": [],
   "source": []
  },
  {
   "cell_type": "code",
   "execution_count": 54,
   "id": "45cf1bc0",
   "metadata": {},
   "outputs": [],
   "source": [
    "from sklearn.model_selection import train_test_split\n"
   ]
  },
  {
   "cell_type": "code",
   "execution_count": 56,
   "id": "9dd8e343",
   "metadata": {},
   "outputs": [],
   "source": [
    "X_train, X_test, y_train, y_test = train_test_split(X, y, test_size = 0.2, random_state = 0)"
   ]
  },
  {
   "cell_type": "code",
   "execution_count": null,
   "id": "ed9cd63c",
   "metadata": {},
   "outputs": [],
   "source": []
  },
  {
   "cell_type": "code",
   "execution_count": 57,
   "id": "d556b651",
   "metadata": {},
   "outputs": [],
   "source": [
    "from sklearn.naive_bayes import GaussianNB"
   ]
  },
  {
   "cell_type": "code",
   "execution_count": 58,
   "id": "e3746a11",
   "metadata": {},
   "outputs": [
    {
     "ename": "TypeError",
     "evalue": "_validate_data() missing 1 required positional argument: 'X'",
     "output_type": "error",
     "traceback": [
      "\u001b[1;31m---------------------------------------------------------------------------\u001b[0m",
      "\u001b[1;31mTypeError\u001b[0m                                 Traceback (most recent call last)",
      "\u001b[1;32mC:\\Users\\LOUAYA~1\\AppData\\Local\\Temp/ipykernel_2036/929673536.py\u001b[0m in \u001b[0;36m<module>\u001b[1;34m\u001b[0m\n\u001b[0;32m      1\u001b[0m \u001b[0mclassifier\u001b[0m\u001b[1;33m=\u001b[0m\u001b[0mGaussianNB\u001b[0m\u001b[1;33m(\u001b[0m\u001b[1;33m)\u001b[0m\u001b[1;33m\u001b[0m\u001b[1;33m\u001b[0m\u001b[0m\n\u001b[1;32m----> 2\u001b[1;33m \u001b[0mclassifier\u001b[0m\u001b[1;33m.\u001b[0m\u001b[0mfit\u001b[0m\u001b[1;33m(\u001b[0m\u001b[0mX_train\u001b[0m \u001b[1;33m,\u001b[0m \u001b[0my_train\u001b[0m\u001b[1;33m)\u001b[0m\u001b[1;33m\u001b[0m\u001b[1;33m\u001b[0m\u001b[0m\n\u001b[0m",
      "\u001b[1;32m~\\anaconda3\\lib\\site-packages\\sklearn\\naive_bayes.py\u001b[0m in \u001b[0;36mfit\u001b[1;34m(self, X, y, sample_weight)\u001b[0m\n\u001b[0;32m    240\u001b[0m             \u001b[0mReturns\u001b[0m \u001b[0mthe\u001b[0m \u001b[0minstance\u001b[0m \u001b[0mitself\u001b[0m\u001b[1;33m.\u001b[0m\u001b[1;33m\u001b[0m\u001b[1;33m\u001b[0m\u001b[0m\n\u001b[0;32m    241\u001b[0m         \"\"\"\n\u001b[1;32m--> 242\u001b[1;33m         \u001b[0my\u001b[0m \u001b[1;33m=\u001b[0m \u001b[0mself\u001b[0m\u001b[1;33m.\u001b[0m\u001b[0m_validate_data\u001b[0m\u001b[1;33m(\u001b[0m\u001b[0my\u001b[0m\u001b[1;33m=\u001b[0m\u001b[0my\u001b[0m\u001b[1;33m)\u001b[0m\u001b[1;33m\u001b[0m\u001b[1;33m\u001b[0m\u001b[0m\n\u001b[0m\u001b[0;32m    243\u001b[0m         return self._partial_fit(\n\u001b[0;32m    244\u001b[0m             \u001b[0mX\u001b[0m\u001b[1;33m,\u001b[0m \u001b[0my\u001b[0m\u001b[1;33m,\u001b[0m \u001b[0mnp\u001b[0m\u001b[1;33m.\u001b[0m\u001b[0munique\u001b[0m\u001b[1;33m(\u001b[0m\u001b[0my\u001b[0m\u001b[1;33m)\u001b[0m\u001b[1;33m,\u001b[0m \u001b[0m_refit\u001b[0m\u001b[1;33m=\u001b[0m\u001b[1;32mTrue\u001b[0m\u001b[1;33m,\u001b[0m \u001b[0msample_weight\u001b[0m\u001b[1;33m=\u001b[0m\u001b[0msample_weight\u001b[0m\u001b[1;33m\u001b[0m\u001b[1;33m\u001b[0m\u001b[0m\n",
      "\u001b[1;31mTypeError\u001b[0m: _validate_data() missing 1 required positional argument: 'X'"
     ]
    }
   ],
   "source": [
    "classifier=GaussianNB()\n",
    "classifier.fit(X_train , y_train)"
   ]
  },
  {
   "cell_type": "code",
   "execution_count": null,
   "id": "eab80179",
   "metadata": {},
   "outputs": [],
   "source": [
    "classifier.score(X_train , y_train).round(5)"
   ]
  }
 ],
 "metadata": {
  "kernelspec": {
   "display_name": "Python 3 (ipykernel)",
   "language": "python",
   "name": "python3"
  },
  "language_info": {
   "codemirror_mode": {
    "name": "ipython",
    "version": 3
   },
   "file_extension": ".py",
   "mimetype": "text/x-python",
   "name": "python",
   "nbconvert_exporter": "python",
   "pygments_lexer": "ipython3",
   "version": "3.9.7"
  }
 },
 "nbformat": 4,
 "nbformat_minor": 5
}
